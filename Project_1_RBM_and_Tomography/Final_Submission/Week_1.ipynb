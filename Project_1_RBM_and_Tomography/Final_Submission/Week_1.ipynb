{
 "cells": [
  {
   "cell_type": "code",
   "execution_count": 1,
   "metadata": {
    "ExecuteTime": {
     "end_time": "2020-07-12T03:12:57.027100Z",
     "start_time": "2020-07-12T03:12:53.440914Z"
    },
    "colab": {},
    "colab_type": "code",
    "id": "0_QoxQMaNZcx"
   },
   "outputs": [],
   "source": [
    "import numpy as np\n",
    "import matplotlib.pyplot as plt\n",
    "plt.style.use('seaborn-talk')\n",
    "\n",
    "from tqdm import tqdm\n",
    "\n",
    "import datetime\n",
    "import pickle\n",
    "\n",
    "import torch"
   ]
  },
  {
   "cell_type": "markdown",
   "metadata": {
    "colab_type": "text",
    "id": "AhYlaO5zbNol"
   },
   "source": [
    "# Task 1: Hydrogen Molecule"
   ]
  },
  {
   "cell_type": "code",
   "execution_count": 3,
   "metadata": {
    "ExecuteTime": {
     "end_time": "2020-07-12T03:13:31.716116Z",
     "start_time": "2020-07-12T03:13:31.711143Z"
    },
    "colab": {},
    "colab_type": "code",
    "id": "JuoIvDqdI45j"
   },
   "outputs": [],
   "source": [
    "import torch\n",
    "\n",
    "from RBM_helper import RBM\n",
    "\n",
    "import H2_energy_calculator\n"
   ]
  },
  {
   "cell_type": "code",
   "execution_count": 5,
   "metadata": {
    "ExecuteTime": {
     "end_time": "2020-07-12T03:14:13.967976Z",
     "start_time": "2020-07-12T03:14:11.259158Z"
    },
    "colab": {
     "base_uri": "https://localhost:8080/",
     "height": 34
    },
    "colab_type": "code",
    "id": "_vK4GBcvbq8J",
    "outputId": "db64a0f7-7ec2-4d15-9abe-57fb584983fa"
   },
   "outputs": [
    {
     "name": "stdout",
     "output_type": "stream",
     "text": [
      "H2 energy for r = 1.2:  -1.0642022250418146\n"
     ]
    }
   ],
   "source": [
    "# Here's the sample code provided in the task at a specific point, r=1.2. \n",
    "training_data = torch.from_numpy(np.loadtxt(\"H2/R_1.2_samples.txt\"))\n",
    "coeff = np.loadtxt(\"H2/H2_coefficients.txt\")[20,:]\n",
    "\n",
    "true_energy = H2_energy_calculator.energy_from_freq(training_data, coeff)\n",
    "print(\"H2 energy for r = 1.2: \",true_energy)"
   ]
  },
  {
   "cell_type": "code",
   "execution_count": null,
   "metadata": {
    "ExecuteTime": {
     "end_time": "2020-07-07T10:59:37.580388Z",
     "start_time": "2020-07-07T10:57:58.692954Z"
    },
    "colab": {
     "base_uri": "https://localhost:8080/",
     "height": 465
    },
    "colab_type": "code",
    "id": "_1d5QDsKI45v",
    "outputId": "52dc5809-1e2b-404c-83e5-340150798aab"
   },
   "outputs": [
    {
     "data": {
      "text/plain": [
       "[<matplotlib.lines.Line2D at 0x7f1bc2249748>]"
      ]
     },
     "execution_count": 10,
     "metadata": {
      "tags": []
     },
     "output_type": "execute_result"
    },
    {
     "data": {
      "image/png": "[encoded data removed]",
      "text/plain": [
       "<Figure size 748.8x514.8 with 1 Axes>"
      ]
     },
     "metadata": {
      "needs_background": "light",
      "tags": []
     },
     "output_type": "display_data"
    }
   ],
   "source": [
    "# Let's see what we get from the energy function first. \n",
    "\n",
    "coeffs = np.loadtxt(\"H2/H2_coefficients.txt\")\n",
    "true_energies = []\n",
    "\n",
    "for coeff in coeffs:\n",
    "    i = coeff[0]\n",
    "    f = f\"H2/R_{i}_samples.txt\"\n",
    "    training_data = torch.from_numpy(np.loadtxt(f))\n",
    "    \n",
    "    true_energy = H2_energy_calculator.energy_from_freq(training_data, coeff)\n",
    "    true_energies += [ [i,true_energy] ]\n",
    "\n",
    "#     print(i)\n",
    "#     print(f, '\\n')\n",
    "\n",
    "true_energies = np.array(true_energies).T    \n",
    "plt.plot(*true_energies)"
   ]
  },
  {
   "cell_type": "markdown",
   "metadata": {
    "colab_type": "text",
    "id": "e3GHievTI456"
   },
   "source": [
    "# RBM States\n",
    "\n",
    "- Define the RBM\n",
    "\n",
    "- Train it  to sample the probability that matches the one for the states. \n",
    "\n",
    "- Compare it to the true enery values"
   ]
  },
  {
   "cell_type": "code",
   "execution_count": null,
   "metadata": {
    "ExecuteTime": {
     "end_time": "2020-07-07T11:08:25.488965Z",
     "start_time": "2020-07-07T11:08:25.480533Z"
    },
    "colab": {},
    "colab_type": "code",
    "id": "JzSJRA5PI457"
   },
   "outputs": [],
   "source": [
    "n_vis = 2\n",
    "n_hin = 10\n",
    "\n",
    "rbm = RBM(n_vis, n_hin)\n",
    "\n",
    "epochs = 500 # number of training steps\n",
    "num_samples = 1000 # number of samples to generate from the RBM to calculate the H2 energy"
   ]
  },
  {
   "cell_type": "markdown",
   "metadata": {
    "colab_type": "text",
    "id": "AkVH4XI8I45_"
   },
   "source": [
    "## Testing the code\n",
    "Train the RBM:"
   ]
  },
  {
   "cell_type": "code",
   "execution_count": null,
   "metadata": {
    "ExecuteTime": {
     "end_time": "2020-07-07T11:14:50.340880Z",
     "start_time": "2020-07-07T11:08:27.187930Z"
    },
    "colab": {
     "base_uri": "https://localhost:8080/",
     "height": 901
    },
    "colab_type": "code",
    "id": "tlnNs8bEI46A",
    "outputId": "33601672-2b13-4d5b-821a-df709138f72f"
   },
   "outputs": [
    {
     "name": "stdout",
     "output_type": "stream",
     "text": [
      "\n",
      "Epoch:  100\n",
      "Sampling the RBM...\n",
      "Done sampling. Calculating energy...\n",
      "Energy from RBM samples:  0.15898207519486107\n",
      "\n",
      "Epoch:  200\n",
      "Sampling the RBM...\n",
      "Done sampling. Calculating energy...\n",
      "Energy from RBM samples:  0.15916552956988408\n",
      "\n",
      "Epoch:  300\n",
      "Sampling the RBM...\n",
      "Done sampling. Calculating energy...\n",
      "Energy from RBM samples:  0.15421679642530817\n",
      "\n",
      "Epoch:  400\n",
      "Sampling the RBM...\n",
      "Done sampling. Calculating energy...\n",
      "Energy from RBM samples:  0.1542246905032987\n",
      "\n",
      "Epoch:  500\n",
      "Sampling the RBM...\n",
      "Done sampling. Calculating energy...\n",
      "Energy from RBM samples:  0.1617038558444119\n",
      "\n",
      "Epoch:  100\n",
      "Sampling the RBM...\n",
      "Done sampling. Calculating energy...\n",
      "Energy from RBM samples:  -0.296301363805888\n",
      "\n",
      "Epoch:  200\n",
      "Sampling the RBM...\n",
      "Done sampling. Calculating energy...\n",
      "Energy from RBM samples:  -0.30587073063047204\n",
      "\n",
      "Epoch:  300\n",
      "Sampling the RBM...\n",
      "Done sampling. Calculating energy...\n",
      "Energy from RBM samples:  -0.3073182135796053\n",
      "\n",
      "Epoch:  400\n",
      "Sampling the RBM...\n",
      "Done sampling. Calculating energy...\n",
      "Energy from RBM samples:  -0.31517244562861146\n",
      "\n",
      "Epoch:  500\n",
      "Sampling the RBM...\n",
      "Done sampling. Calculating energy...\n",
      "Energy from RBM samples:  -0.354428465677284\n",
      "CPU times: user 1min 46s, sys: 24.3 ms, total: 1min 46s\n",
      "Wall time: 1min 46s\n"
     ]
    }
   ],
   "source": [
    "%%time\n",
    "coeffs = np.loadtxt(\"H2/H2_coefficients.txt\")\n",
    "true_energies = []\n",
    "rbm_energies = []\n",
    "\n",
    "for coeff in coeffs[:2]:\n",
    "    rbm.initialize_parameters()\n",
    "    i = coeff[0]\n",
    "    f = f\"H2/R_{i}_samples.txt\"\n",
    "    training_data = torch.from_numpy(np.loadtxt(f))\n",
    "    \n",
    "    # True energy\n",
    "    true_energy = H2_energy_calculator.energy_from_freq(training_data, coeff)\n",
    "    true_energies += [ [i,true_energy] ]\n",
    "\n",
    "    # RBM\n",
    "    for e in range(1, epochs+1):\n",
    "        # do one epoch of training\n",
    "        rbm.train(training_data)   \n",
    "\n",
    "        # now generate samples and calculate the energy\n",
    "        if e % 100 == 0:\n",
    "            print(\"\\nEpoch: \", e)\n",
    "            print(\"Sampling the RBM...\")\n",
    "\n",
    "            # For sampling the RBM, we need to do Gibbs sampling.\n",
    "            # Initialize the Gibbs sampling chain with init_state as defined below.\n",
    "            init_state = torch.zeros(num_samples, n_vis)\n",
    "            RBM_samples = rbm.draw_samples(15, init_state)\n",
    "\n",
    "            print(\"Done sampling. Calculating energy...\")       \n",
    "\n",
    "            energies = H2_energy_calculator.energy(RBM_samples, coeff, rbm.wavefunction) \n",
    "            print(\"Energy from RBM samples: \", energies.item())\n",
    "        \n",
    "    rbm_energies +=[ [i, energies.item()] ]\n",
    "\n",
    "true_energies = np.array(true_energies).T \n",
    "rbm_energies = np.array(rbm_energies).T \n",
    "\n",
    "## Save the results\n",
    "np.savez_compressed(f'energies_epochs{epochs}_nsmples{num_samples}', rbm=rbm_energies, true=true_energies)\n"
   ]
  },
  {
   "cell_type": "markdown",
   "metadata": {
    "colab_type": "text",
    "id": "F11c_-RUOiQ_"
   },
   "source": [
    "### Full training"
   ]
  },
  {
   "cell_type": "code",
   "execution_count": null,
   "metadata": {
    "colab": {},
    "colab_type": "code",
    "id": "Vlw6clTUI46N"
   },
   "outputs": [],
   "source": [
    "%%time\n",
    "coeffs = np.loadtxt(\"H2/H2_coefficients.txt\")\n",
    "true_energies = []\n",
    "rbm_energies = []\n",
    "\n",
    "how_many_r = -1\n",
    "\n",
    "for coeff in coeffs[:how_many_r]:\n",
    "    print(f'\\n \\n************\\n starting r = {coeff[0]} ... ')\n",
    "    rbm.initialize_parameters()\n",
    "    i = coeff[0]\n",
    "    f = f\"H2/R_{i}_samples.txt\"\n",
    "    training_data = torch.from_numpy(np.loadtxt(f))\n",
    "    \n",
    "    # True energy\n",
    "    true_energy = H2_energy_calculator.energy_from_freq(training_data, coeff)\n",
    "    true_energies += [ [i,true_energy] ]\n",
    "\n",
    "    # RBM\n",
    "    for e in range(1, epochs+1):\n",
    "        # do one epoch of training\n",
    "        rbm.train(training_data)   \n",
    "\n",
    "        # now generate samples and calculate the energy\n",
    "        if e % 100 == 0:\n",
    "            print(f'for this instance, r is ={i}. \\n')\n",
    "            print(\"\\nEpoch: \", e)\n",
    "            print(\"Sampling the RBM...\")\n",
    "\n",
    "            # For sampling the RBM, we need to do Gibbs sampling.\n",
    "            # Initialize the Gibbs sampling chain with init_state as defined below.\n",
    "            init_state = torch.zeros(num_samples, n_vis)\n",
    "            RBM_samples = rbm.draw_samples(15, init_state)\n",
    "\n",
    "            print(\"Done sampling. Calculating energy...\")       \n",
    "\n",
    "            energies = H2_energy_calculator.energy(RBM_samples, coeff, rbm.wavefunction) \n",
    "            print(\"Energy from RBM samples: \", energies.item())\n",
    "        \n",
    "    rbm_energies +=[ [i, energies.item()] ]\n",
    "#     print(i)\n",
    "#     print(f, '\\n')\n",
    "\n",
    "true_energies = np.array(true_energies).T \n",
    "rbm_energies = np.array(rbm_energies).T \n",
    "\n",
    "## Save the results\n",
    "np.savez_compressed(f'energies_epochs{epochs}_nsmples{num_samples}', rbm=rbm_energies, true=true_energies)\n"
   ]
  },
  {
   "cell_type": "code",
   "execution_count": 82,
   "metadata": {
    "colab": {
     "base_uri": "https://localhost:8080/",
     "height": 364
    },
    "colab_type": "code",
    "id": "NvOqbxeXfwg7",
    "outputId": "c97796ce-05d1-4d66-d281-17450e0566e7"
   },
   "outputs": [
    {
     "data": {
      "image/png": "[encoded data removed]",
      "text/plain": [
       "<Figure size 720x360 with 1 Axes>"
      ]
     },
     "metadata": {
      "needs_background": "light",
      "tags": []
     },
     "output_type": "display_data"
    }
   ],
   "source": [
    "#Plotting the data\n",
    "\n",
    "#Loading the data\n",
    "data = np.load('energies_epochs500_nsmples1000.npz')\n",
    "true_e = data['true']\n",
    "rbm_e = data['rbm']\n",
    "\n",
    "##Plotting the loaded data\n",
    "fig = plt.figure(figsize=(10,5))\n",
    "ax = fig.add_subplot(1,1,1, \n",
    "                     title = 'Energy of the Moleule vs r', \n",
    "                     xlabel = 'distance, r', \n",
    "                     ylabel= 'Energy ')\n",
    "\n",
    "ax.plot(*true_e, label='True Energy')\n",
    "ax.plot(*rbm_e, label='RBM Energy')\n",
    "plt.legend(loc=0)\n",
    "plt.show()"
   ]
  },
  {
   "cell_type": "markdown",
   "metadata": {
    "colab_type": "text",
    "id": "KKw4dWE5JNDn"
   },
   "source": [
    "# Task #2\n",
    "\n",
    "A template code for training an RBM on Rydberg atom data (the full dataset) was provided below. For the first part of this task (determining the minimum number of hidden units. \n",
    "\n",
    "Imports and loadining in data:"
   ]
  },
  {
   "cell_type": "code",
   "execution_count": 6,
   "metadata": {
    "ExecuteTime": {
     "end_time": "2020-07-12T03:16:41.399635Z",
     "start_time": "2020-07-12T03:16:36.290058Z"
    },
    "colab": {},
    "colab_type": "code",
    "id": "NsQsuCxwJNDo"
   },
   "outputs": [],
   "source": [
    "import numpy as np\n",
    "import matplotlib.pyplot as plt\n",
    "\n",
    "import torch\n",
    "from RBM_helper import RBM\n",
    "\n",
    "import Rydberg_energy_calculator\n",
    "\n",
    "training_data = torch.from_numpy(np.loadtxt(\"Rydberg_data.txt\"))\n",
    "\n",
    "## There is a gpu eneabled version of this below which needs RBM_helper_gpu."
   ]
  },
  {
   "cell_type": "markdown",
   "metadata": {
    "colab_type": "text",
    "id": "5_Jbm9oYJND0"
   },
   "source": [
    "Define the RBM:"
   ]
  },
  {
   "cell_type": "code",
   "execution_count": null,
   "metadata": {
    "ExecuteTime": {
     "end_time": "2020-07-08T08:09:58.708104Z",
     "start_time": "2020-07-08T08:09:58.687152Z"
    },
    "colab": {},
    "colab_type": "code",
    "id": "gehKj9bdJND1"
   },
   "outputs": [],
   "source": [
    "n_vis = training_data.shape[1]\n",
    "n_hin = 1\n",
    "\n",
    "rbm = RBM(n_vis, n_hin)"
   ]
  },
  {
   "cell_type": "markdown",
   "metadata": {
    "colab_type": "text",
    "id": "T-C1TJWzJND5"
   },
   "source": [
    "Train the RBM:"
   ]
  },
  {
   "cell_type": "code",
   "execution_count": null,
   "metadata": {
    "ExecuteTime": {
     "end_time": "2020-07-08T08:16:12.244997Z",
     "start_time": "2020-07-08T08:11:51.665377Z"
    },
    "colab": {
     "base_uri": "https://localhost:8080/",
     "height": 581
    },
    "colab_type": "code",
    "id": "vttKiJaHJND5",
    "outputId": "ca4971e8-979a-4b73-c713-838caf62d2e4"
   },
   "outputs": [
    {
     "name": "stdout",
     "output_type": "stream",
     "text": [
      "Exact energy:  -4.1203519096\n",
      "\n",
      "Epoch:  100\n",
      "Sampling...\n",
      "Done sampling. Calculating energy...\n"
     ]
    },
    {
     "name": "stderr",
     "output_type": "stream",
     "text": [
      "/pytorch/aten/src/ATen/native/BinaryOps.cpp:81: UserWarning: Integer division of tensors using div or / is deprecated, and in a future release div will perform true division as in Python 3. Use true_divide or floor_divide (// in Python) instead.\n"
     ]
    },
    {
     "name": "stdout",
     "output_type": "stream",
     "text": [
      "Energy from RBM samples:  -4.119917680860852\n",
      "The energy difference is 0.0004. \n",
      "\n",
      "Epoch:  200\n",
      "Sampling...\n",
      "Done sampling. Calculating energy...\n",
      "Energy from RBM samples:  -4.119815691932372\n",
      "The energy difference is 0.0005. \n",
      "\n",
      "Epoch:  300\n",
      "Sampling...\n",
      "Done sampling. Calculating energy...\n",
      "Energy from RBM samples:  -4.119826762623689\n",
      "The energy difference is 0.0005. \n",
      "\n",
      "Epoch:  400\n",
      "Sampling...\n",
      "Done sampling. Calculating energy...\n",
      "Energy from RBM samples:  -4.12020977496922\n",
      "The energy difference is 0.0001. \n",
      "\n",
      "Epoch:  500\n",
      "Sampling...\n",
      "Done sampling. Calculating energy...\n",
      "Energy from RBM samples:  -4.120277217543438\n",
      "The energy difference is 0.0001. \n"
     ]
    }
   ],
   "source": [
    "epochs = 500\n",
    "num_samples = 2000\n",
    "\n",
    "exact_energy = -4.1203519096\n",
    "print(\"Exact energy: \",exact_energy)\n",
    "\n",
    "for e in range(1, epochs+1):\n",
    "    # do one epoch of training\n",
    "    rbm.train(training_data)   \n",
    " \n",
    "    # now generate samples and calculate the energy\n",
    "    if e % 100 == 0:\n",
    "        print(\"\\nEpoch: \", e)\n",
    "        print(\"Sampling...\")\n",
    "\n",
    "        init_state = torch.zeros(num_samples, n_vis)\n",
    "        RBM_samples = rbm.draw_samples(100, init_state)\n",
    "\n",
    "        print(\"Done sampling. Calculating energy...\") \n",
    " \n",
    "        energies = Rydberg_energy_calculator.energy(RBM_samples, rbm.wavefunction) \n",
    "        print(\"Energy from RBM samples: \", energies.item())\n",
    "\n",
    "        print(f'The energy difference is {np.round( energies.item()-exact_energy, 4 ) }. ')"
   ]
  },
  {
   "cell_type": "code",
   "execution_count": null,
   "metadata": {
    "colab": {
     "base_uri": "https://localhost:8080/",
     "height": 34
    },
    "colab_type": "code",
    "id": "y9irfqOGkqKK",
    "outputId": "b0157acb-1350-4510-ac46-c5e47f02802e"
   },
   "outputs": [
    {
     "data": {
      "text/plain": [
       "True"
      ]
     },
     "execution_count": 29,
     "metadata": {
      "tags": []
     },
     "output_type": "execute_result"
    }
   ],
   "source": [
    "np.round( energies.item()-exact_energy, 4 )<= np.round(.0001, 4)"
   ]
  },
  {
   "cell_type": "markdown",
   "metadata": {
    "colab_type": "text",
    "id": "YkKiEefukAdR"
   },
   "source": [
    "This indicates the task cab be done with just one hidden unit. \n",
    "The following code is just a function that starts from nh=1 and goes up until it actually converges to the learnig condition. "
   ]
  },
  {
   "cell_type": "markdown",
   "metadata": {
    "colab_type": "text",
    "id": "1mQCWRFsJNEB"
   },
   "source": [
    "# Part1-PartA: How many hidden units?"
   ]
  },
  {
   "cell_type": "code",
   "execution_count": 9,
   "metadata": {
    "ExecuteTime": {
     "end_time": "2020-07-12T03:18:41.638162Z",
     "start_time": "2020-07-12T03:18:36.811790Z"
    },
    "colab": {},
    "colab_type": "code",
    "id": "Z_uRLPf9AHoc"
   },
   "outputs": [],
   "source": [
    "import numpy as np\n",
    "import matplotlib.pyplot as plt\n",
    "plt.style.use('seaborn-talk')\n",
    "\n",
    "import datetime\n",
    "import pickle\n",
    "\n",
    "import torch\n",
    "\n",
    "###Gpu eneabled implementation\n",
    "# from RBM_helper_gpu import RBM\n",
    "# device = torch.device(\"cuda:0\" if torch.cuda.is_available() else \"cpu\")\n",
    "\n",
    "##cpu implementation \n",
    "from RBM_helper import RBM\n",
    "device = \"cpu\"\n",
    "\n",
    "\n",
    "import Rydberg_energy_calculator\n",
    "\n",
    "training_data = torch.from_numpy(np.loadtxt(\"Rydberg_data.txt\")).to(device)\n",
    "\n",
    "epochs = 100\n",
    "num_samples = 200\n",
    "\n",
    "exact_energy = -4.1203519096"
   ]
  },
  {
   "cell_type": "code",
   "execution_count": 10,
   "metadata": {
    "ExecuteTime": {
     "end_time": "2020-07-12T03:18:41.711122Z",
     "start_time": "2020-07-12T03:18:41.684444Z"
    },
    "colab": {
     "base_uri": "https://localhost:8080/",
     "height": 34
    },
    "colab_type": "code",
    "id": "8d5IA0HQLS3H",
    "outputId": "ad4ce748-f568-49d3-9fcf-3cfa8cee2ee6"
   },
   "outputs": [
    {
     "name": "stdout",
     "output_type": "stream",
     "text": [
      "Exact energy:  -4.1203519096\n"
     ]
    }
   ],
   "source": [
    "exact_energy = -4.1203519096\n",
    "print(\"Exact energy: \",exact_energy)\n",
    "\n",
    "## Defining the RBM\n",
    "n_vis = training_data.shape[1]\n",
    "n_hin = 1\n",
    "\n",
    "# rbm = RBM(n_vis, n_hin)\n",
    "\n",
    "\n",
    "## Setting the training param. \n",
    "epochs = 500\n",
    "num_samples = 2000\n",
    "\n"
   ]
  },
  {
   "cell_type": "code",
   "execution_count": 34,
   "metadata": {
    "ExecuteTime": {
     "end_time": "2020-07-08T14:51:24.753619Z",
     "start_time": "2020-07-08T14:51:24.718646Z"
    },
    "colab": {},
    "colab_type": "code",
    "id": "m30qSRHHJNEJ"
   },
   "outputs": [],
   "source": [
    "'''\n",
    "This follwoing function returns min n_h needed. \n",
    "'''\n",
    "\n",
    "def min_nh_finder(training_data, num_samples = 200, epochs = 100, Trshld = .0001, nh_max = 10, n_test = 5 ):\n",
    "\n",
    "    n_h_list = np.arange(1,nh_max, 1)#np.array([1, 3, 6, 9 ])  ## List of the values we want to try for the #hidden units. \n",
    "    test_rate = int(epochs/n_test)\n",
    "\n",
    "    Met_Learning_Cond = False\n",
    "    error_list_list = []\n",
    "\n",
    "    Min_nh_Needed = 0\n",
    "    n_vis = training_data.shape[1]\n",
    "\n",
    "\n",
    "    for n_h in n_h_list:\n",
    "\n",
    "        error_list = []\n",
    "\n",
    "        print(f'\\n \\n************\\n Now let\\'s try {n_h} hidden units. ')\n",
    "        for e in range(1, epochs+1):\n",
    "            # Initiate the model\n",
    "            \n",
    "            rbm = RBM(n_vis, n_h)\n",
    "            rbm.initialize_parameters()\n",
    "\n",
    "            # do one epoch of training\n",
    "            rbm.train(training_data)   \n",
    "\n",
    "            ## Stop condition\n",
    "            if e % test_rate == 0:\n",
    "                print(\"\\n Epoch: \", e)\n",
    "        #         print(\"Sampling...\")\n",
    "\n",
    "                init_state = torch.zeros(num_samples, n_vis)\n",
    "                RBM_samples = rbm.draw_samples(100, init_state)\n",
    "\n",
    "        #         print(\"Done sampling. Calculating energy...\") \n",
    "\n",
    "                energies = Rydberg_energy_calculator.energy(RBM_samples, rbm.wavefunction) \n",
    "                print(\" Energy from RBM samples: \", energies.item())\n",
    "\n",
    "                energy_difference = np.abs(energies.item() - exact_energy) ## Note that this has to be positive. \n",
    "                print(\" The error (energy difference) is : \", energy_difference )\n",
    "                error_list += [ [e,energy_difference] ]\n",
    "                \n",
    "                if np.abs(energy_difference) <= np.round(Trshld, 4):\n",
    "#                     print('Yeah, met the learning condition!')\n",
    "                    Min_nh_Needed = n_h\n",
    "                    \n",
    "                    ### This is to save the model. \n",
    "                    now = datetime.datetime.now( )\n",
    "                    model_name = f'Task2_Part1_{now.day}-{now.hour}-{now.minute}_nh={Min_nh_Needed}.pkl'\n",
    "                    print(f'The model was saved as {model_name}. ')\n",
    "                    with  open(model_name , 'wb') as f:\n",
    "                        pickle.dump(rbm, f)\n",
    "                    Met_Learning_Cond = True\n",
    "                    break\n",
    "#                 else:\n",
    "#                     print('Be a bit more patient, I\\'m working on it!')\n",
    "            \n",
    "            del(rbm) \n",
    "\n",
    "        error_list_list += [error_list]\n",
    "\n",
    "        ## If satisfied, we need the break the outter loop too. \n",
    "        if Met_Learning_Cond:\n",
    "            break\n",
    "\n",
    "    if Met_Learning_Cond:\n",
    "        print('\\n========\\n********\\n Training successful!')\n",
    "        print(f' Learning criterion reached in {e} epoch for {Min_nh_Needed} hidden nodes. ')\n",
    "        return Min_nh_Needed, error_list_list, n_h_list\n",
    "    else:\n",
    "        print('\\n========\\n********\\n Did not get there! need to try more hidden units...')\n",
    "        return -1, error_list_list, n_h_list  # This is to indicate that it did not converge. \n",
    "\n"
   ]
  },
  {
   "cell_type": "code",
   "execution_count": null,
   "metadata": {
    "colab": {},
    "colab_type": "code",
    "id": "S39wsBqspwp8"
   },
   "outputs": [],
   "source": [
    "%%time\n",
    "nh_min, e_list, nh_list = min_nh_finder(training_data, Trshld=.0001, epochs=100, num_samples=1000)"
   ]
  },
  {
   "cell_type": "markdown",
   "metadata": {
    "colab_type": "text",
    "id": "HTQ_VGc4oho3"
   },
   "source": [
    "#### Results\n",
    "\n",
    "We should clarify that different runs give different values for the learning criterion which has to do with the randomness in the samples. "
   ]
  },
  {
   "cell_type": "code",
   "execution_count": null,
   "metadata": {
    "ExecuteTime": {
     "end_time": "2020-07-08T14:29:27.557369Z",
     "start_time": "2020-07-08T14:27:29.680890Z"
    },
    "colab": {
     "base_uri": "https://localhost:8080/",
     "height": 1000
    },
    "colab_type": "code",
    "id": "OIYSWUsIJNEP",
    "outputId": "ab807cea-ce34-469a-924c-de4c0927b35c"
   },
   "outputs": [
    {
     "name": "stdout",
     "output_type": "stream",
     "text": [
      "\n",
      " \n",
      "************\n",
      " Now let's try 1 hidden units. \n",
      "\n",
      " Epoch:  100\n",
      " Energy from RBM samples:  -4.119893384616185\n",
      " The error (energy difference) is :  0.00045852498381471207\n",
      "\n",
      " Epoch:  200\n",
      " Energy from RBM samples:  -4.120156187420129\n",
      " The error (energy difference) is :  0.0001957221798711828\n",
      "\n",
      " Epoch:  300\n",
      " Energy from RBM samples:  -4.119986086221873\n",
      " The error (energy difference) is :  0.00036582337812696153\n",
      "\n",
      " Epoch:  400\n",
      " Energy from RBM samples:  -4.1194718027291435\n",
      " The error (energy difference) is :  0.0008801068708566007\n",
      "\n",
      " Epoch:  500\n",
      " Energy from RBM samples:  -4.119946400052528\n",
      " The error (energy difference) is :  0.00040550954747242685\n",
      "\n",
      " \n",
      "************\n",
      " Now let's try 2 hidden units. \n",
      "\n",
      " Epoch:  100\n",
      " Energy from RBM samples:  -4.120137534509534\n",
      " The error (energy difference) is :  0.00021437509046595693\n",
      "\n",
      " Epoch:  200\n",
      " Energy from RBM samples:  -4.12007539977863\n",
      " The error (energy difference) is :  0.0002765098213703965\n",
      "\n",
      " Epoch:  300\n",
      " Energy from RBM samples:  -4.120049046946669\n",
      " The error (energy difference) is :  0.00030286265333145934\n",
      "\n",
      " Epoch:  400\n",
      " Energy from RBM samples:  -4.1200880891706255\n",
      " The error (energy difference) is :  0.0002638204293745616\n",
      "\n",
      " Epoch:  500\n",
      " Energy from RBM samples:  -4.120339824124634\n",
      " The error (energy difference) is :  1.2085475366241383e-05\n",
      "The model was saved as Task2_Part1_10-16-44.pkl. \n",
      "\n",
      "========\n",
      "********\n",
      " Training successful!\n",
      " Learning criterion reached in 500 epoch for 2 hidden nodes. \n",
      "CPU times: user 11min 14s, sys: 224 ms, total: 11min 14s\n",
      "Wall time: 11min 15s\n"
     ]
    },
    {
     "name": "stderr",
     "output_type": "stream",
     "text": [
      "/usr/local/lib/python3.6/dist-packages/torch/storage.py:34: FutureWarning: pickle support for Storage will be removed in 1.5. Use `torch.save` instead\n",
      "  warnings.warn(\"pickle support for Storage will be removed in 1.5. Use `torch.save` instead\", FutureWarning)\n"
     ]
    }
   ],
   "source": [
    "%%time\n",
    "nh_min, e_list, nh_list = min_nh_finder(training_data, Trshld=.0001, epochs=500, num_samples=2000)"
   ]
  },
  {
   "cell_type": "code",
   "execution_count": 22,
   "metadata": {
    "ExecuteTime": {
     "end_time": "2020-07-12T03:20:20.862356Z",
     "start_time": "2020-07-12T03:20:16.570081Z"
    },
    "colab": {
     "base_uri": "https://localhost:8080/",
     "height": 85
    },
    "colab_type": "code",
    "id": "0iwrT4X8_H6S",
    "outputId": "9098dbc4-bc6f-4a1e-fdcd-2ed3ab8446f3"
   },
   "outputs": [
    {
     "name": "stdout",
     "output_type": "stream",
     "text": [
      "Done sampling. Calculating energy...\n",
      "The exact energy is -4.1203519096.\n",
      "The rbm samples give an  energy of -4.120222861302964.\n",
      "The learning criterion (difference) is 0.0001\n"
     ]
    }
   ],
   "source": [
    "## Let's test and make sure that the model really gives the expected result. \n",
    "with  open('Task2_Part1_10-16-44-nh=2.pkl', 'rb') as f:\n",
    "    model = pickle.load(f)\n",
    "\n",
    "num_samples=2000\n",
    "init_state = torch.zeros(num_samples, n_vis)\n",
    "RBM_samples = model.draw_samples(100, init_state)\n",
    "\n",
    "print(\"Done sampling. Calculating energy...\") \n",
    "\n",
    "energies = Rydberg_energy_calculator.energy(RBM_samples, model.wavefunction) \n",
    "print(f'The exact energy is {exact_energy}.')\n",
    "print(f'The rbm samples give an  energy of {energies}.')\n",
    "print(f'The learning criterion (difference) is {np.round(energies - exact_energy,4)}')"
   ]
  },
  {
   "cell_type": "markdown",
   "metadata": {
    "colab_type": "text",
    "id": "M0JuN6kJoaxE"
   },
   "source": [
    "### Two points about the runs\n",
    "\n",
    "- First, if we run the code above multiple times, we will get different results. This is due to the random samples that are drawn each time. \n",
    "\n",
    "- The function above, it does not always output the same result. If we run it again, it is likeliy that we may end with one hidden unit as we got in the initial code of this section."
   ]
  },
  {
   "cell_type": "markdown",
   "metadata": {
    "colab_type": "text",
    "id": "9BMJ8xXclkbl"
   },
   "source": [
    "# Task2-PartB\n",
    "\n",
    "A more compact representation with fewer data points. \n",
    "\n",
    "Here we double the number of the hidden units and see how many samples would suffice to meet the learning condition. "
   ]
  },
  {
   "cell_type": "code",
   "execution_count": 23,
   "metadata": {
    "ExecuteTime": {
     "end_time": "2020-07-12T03:20:49.511293Z",
     "start_time": "2020-07-12T03:20:43.483503Z"
    },
    "colab": {},
    "colab_type": "code",
    "id": "pR6Wp0O9pQ92"
   },
   "outputs": [],
   "source": [
    "import numpy as np\n",
    "import matplotlib.pyplot as plt\n",
    "plt.style.use('seaborn-talk')\n",
    "\n",
    "import torch\n",
    "from RBM_helper import RBM\n",
    "\n",
    "import Rydberg_energy_calculator\n",
    "\n",
    "training_data = torch.from_numpy(np.loadtxt(\"Rydberg_data.txt\"))\n",
    "\n",
    "exact_energy = -4.1203519096\n"
   ]
  },
  {
   "cell_type": "code",
   "execution_count": 47,
   "metadata": {
    "colab": {},
    "colab_type": "code",
    "id": "IAJqtU0jpL-y"
   },
   "outputs": [],
   "source": [
    "epochs = 500\n",
    "num_samples = 1000\n",
    "\n",
    "min_n_total_samples = min(1000, num_samples)\n",
    "n_total_samples_steps = 500"
   ]
  },
  {
   "cell_type": "code",
   "execution_count": 49,
   "metadata": {
    "colab": {},
    "colab_type": "code",
    "id": "JqE5jxs8Tx1T"
   },
   "outputs": [],
   "source": [
    "## We first define a new function to gives back a random subset of the training data.\n",
    "'''\n",
    "This function gets the data and returns \n",
    "a random subset with n samples. \n",
    "'''\n",
    "\n",
    "def return_subset(data, n= n_total_samples_steps):\n",
    "    random_indx = np.random.randint(0, len(data), n )\n",
    "    return data[random_indx]\n",
    "    "
   ]
  },
  {
   "cell_type": "code",
   "execution_count": null,
   "metadata": {
    "colab": {},
    "colab_type": "code",
    "id": "-ONzYvKoTxxb"
   },
   "outputs": [],
   "source": [
    "# n_h = 2 # double the amount of hidden units\n",
    "Trshld = .0001  #Threshold for the learning criterion \n",
    "Met_Learning_Cond = False\n",
    "n_h_list = np.arange(2,8)\n",
    "epochs = 500  ## I'm starting with 100 epochs for the experimentation/prototype \n",
    "num_samples = 2000   ## I'm starting with 200 num samples for the experimentation/prototype \n",
    "Min_nh_Needed = 0\n",
    "n_vis = training_data.shape[1]\n",
    "\n",
    "test_rate = 30\n",
    "\n",
    "exact_energy = -4.1203519096\n",
    "for n_h in n_h_list: # lets try several hidden units in order to plot them\n",
    "    \n",
    "    print(f'\\n Nº hidden units = {n_h}')\n",
    "    \n",
    "    for amount in np.arange(min_n_total_samples, num_samples , n_total_samples_steps):\n",
    "\n",
    "        print(f'\\nAmount {amount}')\n",
    "        rbm = RBM(n_vis, n_h)\n",
    "        for e in tqdm(range(1, epochs+1)):\n",
    "            # do one epoch of training\n",
    "            rbm.train(return_subset(training_data, amount ) )   \n",
    "\n",
    "            ## Stop condition\n",
    "            if e % test_rate == 0:\n",
    "                print(\"\\n Epoch: \", e)\n",
    "        #         print(\"Sampling...\")\n",
    "\n",
    "                init_state = torch.zeros(num_samples, n_vis)\n",
    "                RBM_samples = rbm.draw_samples(100, init_state)\n",
    "\n",
    "        #         print(\"Done sampling. Calculating energy...\") \n",
    "\n",
    "                energies = Rydberg_energy_calculator.energy(RBM_samples, rbm.wavefunction) \n",
    "                print(\"Energy from RBM samples: \", energies.item())\n",
    "\n",
    "                energy_difference = np.abs(energies.item() - exact_energy) ## Note that this has to be positive. \n",
    "\n",
    "                if np.abs(energy_difference) < Trshld:\n",
    "                    print('Yeah, met the learning condition!')\n",
    "                    Min_nh_Needed = n_h\n",
    "                    print(f'''\n",
    "                    Given {epochs} num of epochs and \n",
    "                    {num_samples} number of samples and \n",
    "                    {n_h} hidden units and\n",
    "                    the learning condition = {Trshld}, \n",
    "                    We need at least {amount} data points and {e} to reach the learning Cond.''')\n",
    "\n",
    "                    Met_Learning_Cond = True\n",
    "                    break\n",
    "                else:\n",
    "                    print('Be a bit more patient, I\\'m working on it!')\n",
    "\n",
    "        ## If satisfied, we need the break the outter loop too. \n",
    "        if Met_Learning_Cond:\n",
    "            Met_Learning_Cond = False\n",
    "            break"
   ]
  },
  {
   "cell_type": "markdown",
   "metadata": {
    "colab_type": "text",
    "id": "M6tkezr2s-DT"
   },
   "source": [
    "### Results"
   ]
  },
  {
   "cell_type": "code",
   "execution_count": 51,
   "metadata": {
    "colab": {
     "base_uri": "https://localhost:8080/",
     "height": 142
    },
    "colab_type": "code",
    "id": "19XNelhbTxuc",
    "outputId": "cd7a0bd1-5dfa-46ca-def6-97794017361b"
   },
   "outputs": [
    {
     "data": {
      "text/html": [
       "<div>\n",
       "<style scoped>\n",
       "    .dataframe tbody tr th:only-of-type {\n",
       "        vertical-align: middle;\n",
       "    }\n",
       "\n",
       "    .dataframe tbody tr th {\n",
       "        vertical-align: top;\n",
       "    }\n",
       "\n",
       "    .dataframe thead th {\n",
       "        text-align: right;\n",
       "    }\n",
       "</style>\n",
       "<table border=\"1\" class=\"dataframe\">\n",
       "  <thead>\n",
       "    <tr style=\"text-align: right;\">\n",
       "      <th></th>\n",
       "      <th>epochs</th>\n",
       "      <th>hidden_units</th>\n",
       "      <th>data_points</th>\n",
       "    </tr>\n",
       "  </thead>\n",
       "  <tbody>\n",
       "    <tr>\n",
       "      <th>0</th>\n",
       "      <td>270</td>\n",
       "      <td>2</td>\n",
       "      <td>16500</td>\n",
       "    </tr>\n",
       "    <tr>\n",
       "      <th>1</th>\n",
       "      <td>300</td>\n",
       "      <td>3</td>\n",
       "      <td>10500</td>\n",
       "    </tr>\n",
       "    <tr>\n",
       "      <th>2</th>\n",
       "      <td>210</td>\n",
       "      <td>4</td>\n",
       "      <td>6500</td>\n",
       "    </tr>\n",
       "  </tbody>\n",
       "</table>\n",
       "</div>"
      ],
      "text/plain": [
       "   epochs  hidden_units  data_points\n",
       "0     270             2        16500\n",
       "1     300             3        10500\n",
       "2     210             4         6500"
      ]
     },
     "execution_count": 51,
     "metadata": {
      "tags": []
     },
     "output_type": "execute_result"
    }
   ],
   "source": [
    "import pandas as pd\n",
    "\n",
    "epochs = [270,300,210]\n",
    "hidden_units = [2,3,4]\n",
    "data_points = [16500,10500,6500]\n",
    "\n",
    "pd.DataFrame({'epochs': epochs, 'hidden_units': hidden_units, 'data_points': data_points})"
   ]
  },
  {
   "cell_type": "markdown",
   "metadata": {
    "colab_type": "text",
    "id": "tve6KR__tFnV"
   },
   "source": [
    "# Challenges"
   ]
  },
  {
   "cell_type": "markdown",
   "metadata": {
    "colab_type": "text",
    "id": "Q9nbuFNwtI4L"
   },
   "source": [
    "## 1. RBM for LiH and BeH2\n",
    "\n",
    "\n",
    "We have run the code and it is fairly similar to the ones we have here. In some sense, it is easier than the second task. This is because the Hamiltonian involves only a few qubits (e.g. 4) which gives rather small Hamiltonians that are easy to diagonalize. \n",
    "\n",
    "The Hamiltonian is the Jordan-Wigner Transformed version of the original spin Hamiltonian with the Fermionic Operators and is far more simpler. Note that the Rydberg Hamiltonian involved 100 qubits which makes up aHilbert space of 2^100. \n",
    "\n",
    "We feel that this may be one of the main difference between this part and the one from before. "
   ]
  },
  {
   "cell_type": "markdown",
   "metadata": {
    "colab_type": "text",
    "id": "_ixWqqr51dD8"
   },
   "source": [
    "## 2. Other Techniques for unsupervisod representation of the state\n",
    "\n",
    "For this, we have trained a RNN model. Specifically, we used a LSTM model which similar to the RBM model, can generate new samples. These samples follow the same statistical properties as the original samples provided in the data. \n",
    "\n",
    "Technically, these are one-to-many RNN models that start with a random input number and generate the sequence of the outcomes."
   ]
  },
  {
   "cell_type": "code",
   "execution_count": 52,
   "metadata": {
    "colab": {
     "base_uri": "https://localhost:8080/",
     "height": 34
    },
    "colab_type": "code",
    "id": "6sFSH_8DTxpm",
    "outputId": "17cec951-b2a6-4ce0-cd32-a33a68d4b091"
   },
   "outputs": [
    {
     "name": "stdout",
     "output_type": "stream",
     "text": [
      "Running on CPU ...\n"
     ]
    }
   ],
   "source": [
    "## We do this part using Tensorflow. \n",
    "\n",
    "import tensorflow as tf\n",
    "from tensorflow.keras.models import Sequential\n",
    "from tensorflow.keras.layers import Dense\n",
    "from tensorflow.keras.layers import LSTM, RepeatVector\n",
    "\n",
    "gpus = tf.config.experimental.list_physical_devices('GPU')\n",
    "if len(gpus)>0:\n",
    "    tf.config.experimental.set_memory_growth(gpus[0] , True)\n",
    "    print('Running on GPU ...')\n",
    "else:\n",
    "    print('Running on CPU ...')\n",
    "    \n",
    "import os\n",
    "import time\n",
    "\n",
    "import matplotlib.pyplot as plt\n",
    "plt.style.use('seaborn-talk')\n",
    "\n",
    "import torch\n",
    "\n",
    "import warnings\n",
    "warnings.filterwarnings('ignore')\n",
    "\n",
    "import Rydberg_energy_calculator\n",
    "\n",
    "training_data = np.loadtxt(\"Rydberg_data.txt\")"
   ]
  },
  {
   "cell_type": "code",
   "execution_count": 59,
   "metadata": {
    "colab": {},
    "colab_type": "code",
    "id": "f-HV4BNN30YW"
   },
   "outputs": [],
   "source": [
    "## Parameters\n",
    "n_qubits = 100\n",
    "BATCH_SIZE = 256\n",
    "rnn_units = 100\n",
    "n_epoch=3"
   ]
  },
  {
   "cell_type": "code",
   "execution_count": 54,
   "metadata": {
    "colab": {},
    "colab_type": "code",
    "id": "43WHDr_D32hD"
   },
   "outputs": [],
   "source": [
    "## Building the data for the training the RNN\n",
    "X = training_data[:, 0]\n",
    "y = training_data.reshape(-1, n_qubits, 1)"
   ]
  },
  {
   "cell_type": "code",
   "execution_count": 57,
   "metadata": {
    "colab": {
     "base_uri": "https://localhost:8080/",
     "height": 221
    },
    "colab_type": "code",
    "id": "JXBVL-8032dr",
    "outputId": "85c99e04-4f96-43cd-ee86-35b18393d990"
   },
   "outputs": [
    {
     "name": "stdout",
     "output_type": "stream",
     "text": [
      "Model: \"sequential_1\"\n",
      "_________________________________________________________________\n",
      "Layer (type)                 Output Shape              Param #   \n",
      "=================================================================\n",
      "repeat_vector_1 (RepeatVecto (None, 100, 1)            0         \n",
      "_________________________________________________________________\n",
      "lstm_1 (LSTM)                (None, 100, 1)            12        \n",
      "=================================================================\n",
      "Total params: 12\n",
      "Trainable params: 12\n",
      "Non-trainable params: 0\n",
      "_________________________________________________________________\n"
     ]
    }
   ],
   "source": [
    "model = Sequential()\n",
    "model.add(RepeatVector(n_qubits, input_shape= ( [1]) ))\n",
    "model.add(LSTM(1, return_sequences=True, activation ='sigmoid'))\n",
    "model.compile(loss='mean_squared_error', optimizer='adam', metrics=['accuracy'])\n",
    "model.summary()"
   ]
  },
  {
   "cell_type": "code",
   "execution_count": 60,
   "metadata": {
    "colab": {
     "base_uri": "https://localhost:8080/",
     "height": 1000
    },
    "colab_type": "code",
    "id": "9pHqkVOc30SY",
    "outputId": "1688367a-10ff-4c87-9753-8294972acebb"
   },
   "outputs": [
    {
     "name": "stdout",
     "output_type": "stream",
     "text": [
      "Epoch 1/100\n",
      "63/63 [==============================] - 2s 35ms/step - loss: 0.1470 - accuracy: 0.9900 - val_loss: 0.1361 - val_accuracy: 0.9899\n",
      "Epoch 2/100\n",
      "63/63 [==============================] - 2s 30ms/step - loss: 0.1273 - accuracy: 0.9900 - val_loss: 0.1190 - val_accuracy: 0.9899\n",
      "Epoch 3/100\n",
      "63/63 [==============================] - 2s 31ms/step - loss: 0.1121 - accuracy: 0.9900 - val_loss: 0.1056 - val_accuracy: 0.9899\n",
      "Epoch 4/100\n",
      "63/63 [==============================] - 2s 30ms/step - loss: 0.1001 - accuracy: 0.9900 - val_loss: 0.0947 - val_accuracy: 0.9899\n",
      "Epoch 5/100\n",
      "63/63 [==============================] - 2s 31ms/step - loss: 0.0902 - accuracy: 0.9900 - val_loss: 0.0858 - val_accuracy: 0.9899\n",
      "Epoch 6/100\n",
      "63/63 [==============================] - 2s 32ms/step - loss: 0.0820 - accuracy: 0.9900 - val_loss: 0.0784 - val_accuracy: 0.9899\n",
      "Epoch 7/100\n",
      "63/63 [==============================] - 2s 32ms/step - loss: 0.0751 - accuracy: 0.9900 - val_loss: 0.0720 - val_accuracy: 0.9899\n",
      "Epoch 8/100\n",
      "63/63 [==============================] - 2s 32ms/step - loss: 0.0692 - accuracy: 0.9900 - val_loss: 0.0665 - val_accuracy: 0.9899\n",
      "Epoch 9/100\n",
      "63/63 [==============================] - 2s 33ms/step - loss: 0.0641 - accuracy: 0.9900 - val_loss: 0.0617 - val_accuracy: 0.9899\n",
      "Epoch 10/100\n",
      "63/63 [==============================] - 2s 33ms/step - loss: 0.0596 - accuracy: 0.9900 - val_loss: 0.0575 - val_accuracy: 0.9899\n",
      "Epoch 11/100\n",
      "63/63 [==============================] - 2s 31ms/step - loss: 0.0556 - accuracy: 0.9900 - val_loss: 0.0538 - val_accuracy: 0.9899\n",
      "Epoch 12/100\n",
      "63/63 [==============================] - 2s 34ms/step - loss: 0.0521 - accuracy: 0.9900 - val_loss: 0.0505 - val_accuracy: 0.9899\n",
      "Epoch 13/100\n",
      "63/63 [==============================] - 2s 33ms/step - loss: 0.0490 - accuracy: 0.9900 - val_loss: 0.0475 - val_accuracy: 0.9899\n",
      "Epoch 14/100\n",
      "63/63 [==============================] - 2s 32ms/step - loss: 0.0461 - accuracy: 0.9900 - val_loss: 0.0448 - val_accuracy: 0.9899\n",
      "Epoch 15/100\n",
      "63/63 [==============================] - 2s 32ms/step - loss: 0.0436 - accuracy: 0.9900 - val_loss: 0.0424 - val_accuracy: 0.9899\n",
      "Epoch 16/100\n",
      "63/63 [==============================] - 2s 32ms/step - loss: 0.0413 - accuracy: 0.9900 - val_loss: 0.0403 - val_accuracy: 0.9899\n",
      "Epoch 17/100\n",
      "63/63 [==============================] - 2s 34ms/step - loss: 0.0392 - accuracy: 0.9900 - val_loss: 0.0383 - val_accuracy: 0.9899\n",
      "Epoch 18/100\n",
      "63/63 [==============================] - 2s 32ms/step - loss: 0.0373 - accuracy: 0.9900 - val_loss: 0.0364 - val_accuracy: 0.9899\n",
      "Epoch 19/100\n",
      "63/63 [==============================] - 2s 32ms/step - loss: 0.0356 - accuracy: 0.9900 - val_loss: 0.0348 - val_accuracy: 0.9899\n",
      "Epoch 20/100\n",
      "63/63 [==============================] - 2s 32ms/step - loss: 0.0340 - accuracy: 0.9900 - val_loss: 0.0333 - val_accuracy: 0.9899\n",
      "Epoch 21/100\n",
      "63/63 [==============================] - 2s 31ms/step - loss: 0.0325 - accuracy: 0.9900 - val_loss: 0.0318 - val_accuracy: 0.9899\n",
      "Epoch 22/100\n",
      "63/63 [==============================] - 2s 33ms/step - loss: 0.0311 - accuracy: 0.9900 - val_loss: 0.0305 - val_accuracy: 0.9899\n",
      "Epoch 23/100\n",
      "63/63 [==============================] - 2s 32ms/step - loss: 0.0299 - accuracy: 0.9900 - val_loss: 0.0294 - val_accuracy: 0.9899\n",
      "Epoch 24/100\n",
      "63/63 [==============================] - 2s 32ms/step - loss: 0.0287 - accuracy: 0.9900 - val_loss: 0.0282 - val_accuracy: 0.9899\n",
      "Epoch 25/100\n",
      "63/63 [==============================] - 2s 31ms/step - loss: 0.0277 - accuracy: 0.9900 - val_loss: 0.0272 - val_accuracy: 0.9899\n",
      "Epoch 26/100\n",
      "63/63 [==============================] - 2s 33ms/step - loss: 0.0267 - accuracy: 0.9900 - val_loss: 0.0263 - val_accuracy: 0.9899\n",
      "Epoch 27/100\n",
      "63/63 [==============================] - 2s 31ms/step - loss: 0.0258 - accuracy: 0.9900 - val_loss: 0.0254 - val_accuracy: 0.9899\n",
      "Epoch 28/100\n",
      "63/63 [==============================] - 2s 33ms/step - loss: 0.0249 - accuracy: 0.9900 - val_loss: 0.0245 - val_accuracy: 0.9899\n",
      "Epoch 29/100\n",
      "63/63 [==============================] - 2s 32ms/step - loss: 0.0241 - accuracy: 0.9900 - val_loss: 0.0238 - val_accuracy: 0.9899\n",
      "Epoch 30/100\n",
      "63/63 [==============================] - 2s 33ms/step - loss: 0.0233 - accuracy: 0.9900 - val_loss: 0.0230 - val_accuracy: 0.9899\n",
      "Epoch 31/100\n",
      "63/63 [==============================] - 2s 32ms/step - loss: 0.0226 - accuracy: 0.9900 - val_loss: 0.0224 - val_accuracy: 0.9899\n",
      "Epoch 32/100\n",
      "63/63 [==============================] - 2s 33ms/step - loss: 0.0220 - accuracy: 0.9900 - val_loss: 0.0217 - val_accuracy: 0.9899\n",
      "Epoch 33/100\n",
      "63/63 [==============================] - 2s 34ms/step - loss: 0.0214 - accuracy: 0.9900 - val_loss: 0.0211 - val_accuracy: 0.9899\n",
      "Epoch 34/100\n",
      "63/63 [==============================] - 2s 34ms/step - loss: 0.0208 - accuracy: 0.9900 - val_loss: 0.0206 - val_accuracy: 0.9899\n",
      "Epoch 35/100\n",
      "63/63 [==============================] - 2s 32ms/step - loss: 0.0203 - accuracy: 0.9900 - val_loss: 0.0200 - val_accuracy: 0.9899\n",
      "Epoch 36/100\n",
      "63/63 [==============================] - 2s 34ms/step - loss: 0.0197 - accuracy: 0.9900 - val_loss: 0.0196 - val_accuracy: 0.9899\n",
      "Epoch 37/100\n",
      "63/63 [==============================] - 2s 33ms/step - loss: 0.0193 - accuracy: 0.9900 - val_loss: 0.0191 - val_accuracy: 0.9899\n",
      "Epoch 38/100\n",
      "63/63 [==============================] - 2s 33ms/step - loss: 0.0188 - accuracy: 0.9900 - val_loss: 0.0187 - val_accuracy: 0.9899\n",
      "Epoch 39/100\n",
      "63/63 [==============================] - 2s 33ms/step - loss: 0.0184 - accuracy: 0.9900 - val_loss: 0.0182 - val_accuracy: 0.9899\n",
      "Epoch 40/100\n",
      "63/63 [==============================] - 2s 34ms/step - loss: 0.0180 - accuracy: 0.9900 - val_loss: 0.0178 - val_accuracy: 0.9899\n",
      "Epoch 41/100\n",
      "63/63 [==============================] - 2s 36ms/step - loss: 0.0176 - accuracy: 0.9900 - val_loss: 0.0175 - val_accuracy: 0.9899\n",
      "Epoch 42/100\n",
      "63/63 [==============================] - 2s 36ms/step - loss: 0.0172 - accuracy: 0.9900 - val_loss: 0.0171 - val_accuracy: 0.9899\n",
      "Epoch 43/100\n",
      "63/63 [==============================] - 2s 34ms/step - loss: 0.0169 - accuracy: 0.9900 - val_loss: 0.0168 - val_accuracy: 0.9899\n",
      "Epoch 44/100\n",
      "63/63 [==============================] - 2s 33ms/step - loss: 0.0166 - accuracy: 0.9900 - val_loss: 0.0165 - val_accuracy: 0.9899\n",
      "Epoch 45/100\n",
      "63/63 [==============================] - 2s 33ms/step - loss: 0.0163 - accuracy: 0.9900 - val_loss: 0.0162 - val_accuracy: 0.9899\n",
      "Epoch 46/100\n",
      "63/63 [==============================] - 2s 33ms/step - loss: 0.0160 - accuracy: 0.9900 - val_loss: 0.0159 - val_accuracy: 0.9899\n",
      "Epoch 47/100\n",
      "63/63 [==============================] - 2s 32ms/step - loss: 0.0157 - accuracy: 0.9900 - val_loss: 0.0156 - val_accuracy: 0.9899\n",
      "Epoch 48/100\n",
      "63/63 [==============================] - 2s 33ms/step - loss: 0.0155 - accuracy: 0.9900 - val_loss: 0.0154 - val_accuracy: 0.9899\n",
      "Epoch 49/100\n",
      "63/63 [==============================] - 2s 34ms/step - loss: 0.0152 - accuracy: 0.9900 - val_loss: 0.0152 - val_accuracy: 0.9899\n",
      "Epoch 50/100\n",
      "63/63 [==============================] - 2s 32ms/step - loss: 0.0150 - accuracy: 0.9900 - val_loss: 0.0149 - val_accuracy: 0.9899\n",
      "Epoch 51/100\n",
      "63/63 [==============================] - 2s 32ms/step - loss: 0.0148 - accuracy: 0.9900 - val_loss: 0.0147 - val_accuracy: 0.9899\n",
      "Epoch 52/100\n",
      "63/63 [==============================] - 2s 33ms/step - loss: 0.0145 - accuracy: 0.9900 - val_loss: 0.0145 - val_accuracy: 0.9899\n",
      "Epoch 53/100\n",
      "63/63 [==============================] - 2s 35ms/step - loss: 0.0143 - accuracy: 0.9900 - val_loss: 0.0143 - val_accuracy: 0.9899\n",
      "Epoch 54/100\n",
      "63/63 [==============================] - 2s 32ms/step - loss: 0.0142 - accuracy: 0.9900 - val_loss: 0.0141 - val_accuracy: 0.9899\n",
      "Epoch 55/100\n",
      "63/63 [==============================] - 2s 34ms/step - loss: 0.0140 - accuracy: 0.9900 - val_loss: 0.0139 - val_accuracy: 0.9899\n",
      "Epoch 56/100\n",
      "63/63 [==============================] - 2s 35ms/step - loss: 0.0138 - accuracy: 0.9900 - val_loss: 0.0138 - val_accuracy: 0.9899\n",
      "Epoch 57/100\n",
      "63/63 [==============================] - 2s 33ms/step - loss: 0.0136 - accuracy: 0.9900 - val_loss: 0.0136 - val_accuracy: 0.9899\n",
      "Epoch 58/100\n",
      "63/63 [==============================] - 2s 35ms/step - loss: 0.0135 - accuracy: 0.9900 - val_loss: 0.0135 - val_accuracy: 0.9899\n",
      "Epoch 59/100\n",
      "63/63 [==============================] - 2s 35ms/step - loss: 0.0133 - accuracy: 0.9900 - val_loss: 0.0133 - val_accuracy: 0.9899\n",
      "Epoch 60/100\n",
      "63/63 [==============================] - 2s 33ms/step - loss: 0.0132 - accuracy: 0.9900 - val_loss: 0.0132 - val_accuracy: 0.9899\n",
      "Epoch 61/100\n",
      "63/63 [==============================] - 2s 35ms/step - loss: 0.0130 - accuracy: 0.9900 - val_loss: 0.0130 - val_accuracy: 0.9899\n",
      "Epoch 62/100\n",
      "63/63 [==============================] - 2s 32ms/step - loss: 0.0129 - accuracy: 0.9900 - val_loss: 0.0129 - val_accuracy: 0.9899\n",
      "Epoch 63/100\n",
      "63/63 [==============================] - 2s 32ms/step - loss: 0.0128 - accuracy: 0.9900 - val_loss: 0.0128 - val_accuracy: 0.9899\n",
      "Epoch 64/100\n",
      "63/63 [==============================] - 2s 33ms/step - loss: 0.0127 - accuracy: 0.9900 - val_loss: 0.0127 - val_accuracy: 0.9899\n",
      "Epoch 65/100\n",
      "63/63 [==============================] - 2s 34ms/step - loss: 0.0125 - accuracy: 0.9900 - val_loss: 0.0126 - val_accuracy: 0.9899\n",
      "Epoch 66/100\n",
      "63/63 [==============================] - 2s 32ms/step - loss: 0.0124 - accuracy: 0.9900 - val_loss: 0.0125 - val_accuracy: 0.9899\n",
      "Epoch 67/100\n",
      "63/63 [==============================] - 2s 32ms/step - loss: 0.0123 - accuracy: 0.9900 - val_loss: 0.0123 - val_accuracy: 0.9899\n",
      "Epoch 68/100\n",
      "63/63 [==============================] - 2s 33ms/step - loss: 0.0122 - accuracy: 0.9900 - val_loss: 0.0123 - val_accuracy: 0.9899\n",
      "Epoch 69/100\n",
      "63/63 [==============================] - 2s 34ms/step - loss: 0.0121 - accuracy: 0.9900 - val_loss: 0.0122 - val_accuracy: 0.9899\n",
      "Epoch 70/100\n",
      "63/63 [==============================] - 2s 34ms/step - loss: 0.0120 - accuracy: 0.9900 - val_loss: 0.0121 - val_accuracy: 0.9899\n",
      "Epoch 71/100\n",
      "63/63 [==============================] - 2s 32ms/step - loss: 0.0120 - accuracy: 0.9900 - val_loss: 0.0120 - val_accuracy: 0.9899\n",
      "Epoch 72/100\n",
      "63/63 [==============================] - 2s 33ms/step - loss: 0.0119 - accuracy: 0.9900 - val_loss: 0.0119 - val_accuracy: 0.9899\n",
      "Epoch 73/100\n",
      "63/63 [==============================] - 2s 33ms/step - loss: 0.0118 - accuracy: 0.9900 - val_loss: 0.0118 - val_accuracy: 0.9899\n",
      "Epoch 74/100\n",
      "63/63 [==============================] - 2s 34ms/step - loss: 0.0117 - accuracy: 0.9900 - val_loss: 0.0117 - val_accuracy: 0.9899\n",
      "Epoch 75/100\n",
      "63/63 [==============================] - 2s 33ms/step - loss: 0.0116 - accuracy: 0.9900 - val_loss: 0.0117 - val_accuracy: 0.9899\n",
      "Epoch 76/100\n",
      "63/63 [==============================] - 2s 33ms/step - loss: 0.0116 - accuracy: 0.9900 - val_loss: 0.0116 - val_accuracy: 0.9899\n",
      "Epoch 77/100\n",
      "63/63 [==============================] - 2s 32ms/step - loss: 0.0115 - accuracy: 0.9900 - val_loss: 0.0115 - val_accuracy: 0.9899\n",
      "Epoch 78/100\n",
      "63/63 [==============================] - 2s 34ms/step - loss: 0.0114 - accuracy: 0.9900 - val_loss: 0.0115 - val_accuracy: 0.9899\n",
      "Epoch 79/100\n",
      "63/63 [==============================] - 2s 32ms/step - loss: 0.0114 - accuracy: 0.9900 - val_loss: 0.0114 - val_accuracy: 0.9899\n",
      "Epoch 80/100\n",
      "63/63 [==============================] - 2s 33ms/step - loss: 0.0113 - accuracy: 0.9900 - val_loss: 0.0114 - val_accuracy: 0.9899\n",
      "Epoch 81/100\n",
      "63/63 [==============================] - 2s 33ms/step - loss: 0.0113 - accuracy: 0.9900 - val_loss: 0.0113 - val_accuracy: 0.9899\n",
      "Epoch 82/100\n",
      "63/63 [==============================] - 2s 36ms/step - loss: 0.0112 - accuracy: 0.9900 - val_loss: 0.0112 - val_accuracy: 0.9899\n",
      "Epoch 83/100\n",
      "63/63 [==============================] - 2s 33ms/step - loss: 0.0112 - accuracy: 0.9900 - val_loss: 0.0112 - val_accuracy: 0.9899\n",
      "Epoch 84/100\n",
      "63/63 [==============================] - 2s 33ms/step - loss: 0.0111 - accuracy: 0.9900 - val_loss: 0.0111 - val_accuracy: 0.9899\n",
      "Epoch 85/100\n",
      "63/63 [==============================] - 2s 34ms/step - loss: 0.0111 - accuracy: 0.9900 - val_loss: 0.0111 - val_accuracy: 0.9899\n",
      "Epoch 86/100\n",
      "63/63 [==============================] - 2s 33ms/step - loss: 0.0110 - accuracy: 0.9900 - val_loss: 0.0111 - val_accuracy: 0.9899\n",
      "Epoch 87/100\n",
      "63/63 [==============================] - 2s 34ms/step - loss: 0.0110 - accuracy: 0.9900 - val_loss: 0.0110 - val_accuracy: 0.9899\n",
      "Epoch 88/100\n",
      "63/63 [==============================] - 2s 34ms/step - loss: 0.0109 - accuracy: 0.9900 - val_loss: 0.0110 - val_accuracy: 0.9899\n",
      "Epoch 89/100\n",
      "63/63 [==============================] - 2s 35ms/step - loss: 0.0109 - accuracy: 0.9900 - val_loss: 0.0109 - val_accuracy: 0.9899\n",
      "Epoch 90/100\n",
      "63/63 [==============================] - 2s 37ms/step - loss: 0.0108 - accuracy: 0.9900 - val_loss: 0.0109 - val_accuracy: 0.9899\n",
      "Epoch 91/100\n",
      "63/63 [==============================] - 2s 33ms/step - loss: 0.0108 - accuracy: 0.9900 - val_loss: 0.0109 - val_accuracy: 0.9899\n",
      "Epoch 92/100\n",
      "63/63 [==============================] - 2s 34ms/step - loss: 0.0108 - accuracy: 0.9900 - val_loss: 0.0108 - val_accuracy: 0.9899\n",
      "Epoch 93/100\n",
      "63/63 [==============================] - 2s 34ms/step - loss: 0.0107 - accuracy: 0.9900 - val_loss: 0.0108 - val_accuracy: 0.9899\n",
      "Epoch 94/100\n",
      "63/63 [==============================] - 2s 35ms/step - loss: 0.0107 - accuracy: 0.9900 - val_loss: 0.0107 - val_accuracy: 0.9899\n",
      "Epoch 95/100\n",
      "63/63 [==============================] - 2s 33ms/step - loss: 0.0107 - accuracy: 0.9900 - val_loss: 0.0107 - val_accuracy: 0.9899\n",
      "Epoch 96/100\n",
      "63/63 [==============================] - 2s 33ms/step - loss: 0.0106 - accuracy: 0.9900 - val_loss: 0.0107 - val_accuracy: 0.9899\n",
      "Epoch 97/100\n",
      "63/63 [==============================] - 2s 32ms/step - loss: 0.0106 - accuracy: 0.9900 - val_loss: 0.0107 - val_accuracy: 0.9899\n",
      "Epoch 98/100\n",
      "63/63 [==============================] - 2s 33ms/step - loss: 0.0106 - accuracy: 0.9900 - val_loss: 0.0106 - val_accuracy: 0.9899\n",
      "Epoch 99/100\n",
      "63/63 [==============================] - 2s 33ms/step - loss: 0.0106 - accuracy: 0.9900 - val_loss: 0.0106 - val_accuracy: 0.9899\n",
      "Epoch 100/100\n",
      "63/63 [==============================] - 2s 33ms/step - loss: 0.0105 - accuracy: 0.9900 - val_loss: 0.0106 - val_accuracy: 0.9899\n",
      "CPU times: user 5min 33s, sys: 20.5 s, total: 5min 54s\n",
      "Wall time: 3min 32s\n"
     ]
    }
   ],
   "source": [
    "%%time\n",
    "history = model.fit(X,y , \n",
    "                    batch_size= BATCH_SIZE, \n",
    "                    validation_split=0.2,\n",
    "#                     callbacks=my_callbacks, \n",
    "                    verbose=1, \n",
    "                    epochs=100)"
   ]
  },
  {
   "cell_type": "code",
   "execution_count": 62,
   "metadata": {
    "colab": {
     "base_uri": "https://localhost:8080/",
     "height": 369
    },
    "colab_type": "code",
    "id": "U6lOauVC4mAO",
    "outputId": "2c4daef0-6fce-4d18-b14e-bad857ce2aad"
   },
   "outputs": [
    {
     "data": {
      "image/png": "[encoded data removed]",
      "text/plain": [
       "<Figure size 720x360 with 1 Axes>"
      ]
     },
     "metadata": {
      "needs_background": "light",
      "tags": []
     },
     "output_type": "display_data"
    }
   ],
   "source": [
    "# Plot training & validation accuracy values\n",
    "fig = plt.figure(figsize=(10,5))\n",
    "ax = fig.add_subplot(1,1,1, title = 'Model loss', ylabel= 'Loss')\n",
    "plt.plot(history.history['loss'])\n",
    "plt.plot(history.history['val_loss'])\n",
    "plt.legend(['Train', 'Test'], loc='upper left')\n",
    "\n",
    "plt.tight_layout()\n",
    "plt.show()"
   ]
  },
  {
   "cell_type": "code",
   "execution_count": 71,
   "metadata": {
    "colab": {
     "base_uri": "https://localhost:8080/",
     "height": 391
    },
    "colab_type": "code",
    "id": "D_BEOdaI6x-F",
    "outputId": "faa92a0c-8034-4fa5-f6d3-025b4cc9d2bc"
   },
   "outputs": [
    {
     "name": "stdout",
     "output_type": "stream",
     "text": [
      "Exact energy:  -4.1203519096\n",
      "\n",
      "Epoch:  5\n",
      "Sampling...\n",
      "Done sampling. Calculating energy...\n",
      "Energy from RBM samples:  -4.110732537186177\n",
      "\n",
      "Epoch:  10\n",
      "Sampling...\n",
      "Done sampling. Calculating energy...\n",
      "Energy from RBM samples:  -4.112932003074396\n",
      "\n",
      "Epoch:  15\n",
      "Sampling...\n",
      "Done sampling. Calculating energy...\n",
      "Energy from RBM samples:  -4.115853110873553\n",
      "\n",
      "Epoch:  20\n",
      "Sampling...\n",
      "Done sampling. Calculating energy...\n",
      "Energy from RBM samples:  -4.117170085397602\n",
      "0.003181824202398431\n"
     ]
    }
   ],
   "source": [
    "epochs = 20\n",
    "num_samples = 500\n",
    "\n",
    "exact_energy = -4.1203519096\n",
    "print(\"Exact energy: \",exact_energy)\n",
    "\n",
    "for e in range(1, epochs+1):\n",
    "    # do one epoch of training\n",
    "    # print('starting ...')\n",
    "    rbm.train(training_data)   \n",
    " \n",
    "    # now generate samples and calculate the energy\n",
    "    if e % 5 == 0:\n",
    "        print(\"\\nEpoch: \", e)\n",
    "        print(\"Sampling...\")\n",
    "\n",
    "        init_state = torch.zeros(num_samples, n_vis)\n",
    "        RBM_samples = rbm.draw_samples(100, init_state)\n",
    "\n",
    "        print(\"Done sampling. Calculating energy...\") \n",
    " \n",
    "        energies = Rydberg_energy_calculator.energy(RBM_samples, rbm.wavefunction) \n",
    "        print(\"Energy from RBM samples: \", energies.item())\n",
    "        \n",
    "print(energies.item() - exact_energy)        "
   ]
  },
  {
   "cell_type": "code",
   "execution_count": 74,
   "metadata": {
    "colab": {
     "base_uri": "https://localhost:8080/",
     "height": 51
    },
    "colab_type": "code",
    "id": "63n9OibK4ph4",
    "outputId": "a614c774-8f18-4b78-b48c-e45dff3cb475"
   },
   "outputs": [
    {
     "name": "stdout",
     "output_type": "stream",
     "text": [
      "Exact energy:  -4.1203519096\n",
      "0.0141\n"
     ]
    }
   ],
   "source": [
    "## Let's test and see how good the generated states can be. \n",
    "\n",
    "##Generating the states\n",
    "num_validation_sample= 1000\n",
    "init_state_0 = np.random.randint(0,2,num_validation_sample)\n",
    "randome_RNN_generated_states = model.predict(init_state_0)\n",
    "\n",
    "\n",
    "exact_energy = -4.1203519096\n",
    "print(\"Exact energy: \",exact_energy)\n",
    "\n",
    "## Calculating the energy for the RNN generated states. \n",
    "randome_RNN_generated_states = randome_RNN_generated_states.reshape(-1, 100)\n",
    "energies = Rydberg_energy_calculator.energy(torch.tensor(randome_RNN_generated_states), rbm.wavefunction) \n",
    "        \n",
    "print(np.round(np.abs(energies.item() - exact_energy),4))  "
   ]
  },
  {
   "cell_type": "markdown",
   "metadata": {
    "colab_type": "text",
    "id": "a1p9wCax7CSe"
   },
   "source": [
    "As is evident, this simple RNN, with only 12 parameters can give a good approximation to the state (within ~ .0141) approx. of the state. \n",
    "\n",
    "It would be interesting to play with this and to improve this and compare the number of parameters in RNN and RBM and see which one gives a more efficient representation of the quantum state. "
   ]
  },
  {
   "cell_type": "markdown",
   "metadata": {
    "colab_type": "text",
    "id": "JyRqBVBG22uZ"
   },
   "source": [
    "## 3. Other datasets\n",
    "\n",
    "We have found the following \n",
    "\n",
    "http://quantum-machine.org/datasets/\n",
    "\n",
    "I guess the data here are generated with different approaches and based on different degrees of freedom so it is not clear how cohesive this approach would be. Some only capture the Coulomb interaction and some the spin degree of freedom.  "
   ]
  },
  {
   "cell_type": "markdown",
   "metadata": {
    "colab_type": "text",
    "id": "WhY5nVOi3P2M"
   },
   "source": [
    "## 4. DWave data"
   ]
  },
  {
   "cell_type": "code",
   "execution_count": 75,
   "metadata": {
    "colab": {},
    "colab_type": "code",
    "id": "lG-f9C7FJNEo"
   },
   "outputs": [],
   "source": [
    "import numpy as np\n",
    "import pandas as pd\n",
    "import matplotlib.pyplot as plt"
   ]
  },
  {
   "cell_type": "code",
   "execution_count": 24,
   "metadata": {
    "ExecuteTime": {
     "end_time": "2020-07-12T03:25:18.935980Z",
     "start_time": "2020-07-12T03:25:18.888009Z"
    },
    "colab": {
     "base_uri": "https://localhost:8080/",
     "height": 34
    },
    "colab_type": "code",
    "id": "s5UGslaT8HR0",
    "outputId": "5ca6d7b9-ed96-4e71-e8d0-9adb9c589559"
   },
   "outputs": [
    {
     "data": {
      "text/plain": [
       "['train', 'validation']"
      ]
     },
     "execution_count": 24,
     "metadata": {},
     "output_type": "execute_result"
    }
   ],
   "source": [
    "data = np.load('IsingSamplesDW/dataset_x1a46w3557od23s750k9.npz')\n",
    "data.files"
   ]
  },
  {
   "cell_type": "code",
   "execution_count": 79,
   "metadata": {
    "colab": {
     "base_uri": "https://localhost:8080/",
     "height": 51
    },
    "colab_type": "code",
    "id": "CwHZh__S8H3i",
    "outputId": "654ed30f-72e6-43d9-a684-e865b5b09bd4"
   },
   "outputs": [
    {
     "name": "stdout",
     "output_type": "stream",
     "text": [
      "(10000, 2041)\n"
     ]
    },
    {
     "data": {
      "text/plain": [
       "(40000, 2041)"
      ]
     },
     "execution_count": 79,
     "metadata": {
      "tags": []
     },
     "output_type": "execute_result"
    }
   ],
   "source": [
    "train_data = data['train']\n",
    "val_data = data['validation']\n",
    "print(val_data.shape)\n",
    "train_data.shape"
   ]
  },
  {
   "cell_type": "code",
   "execution_count": 25,
   "metadata": {
    "ExecuteTime": {
     "end_time": "2020-07-12T03:25:24.353142Z",
     "start_time": "2020-07-12T03:25:21.888237Z"
    },
    "colab": {
     "base_uri": "https://localhost:8080/",
     "height": 221
    },
    "colab_type": "code",
    "id": "kQdfa0gz8mIM",
    "outputId": "6065f0e9-49ce-4755-cce1-34c21c2cd4c6"
   },
   "outputs": [
    {
     "name": "stdout",
     "output_type": "stream",
     "text": [
      "5974\n"
     ]
    },
    {
     "data": {
      "text/html": [
       "<div>\n",
       "<style scoped>\n",
       "    .dataframe tbody tr th:only-of-type {\n",
       "        vertical-align: middle;\n",
       "    }\n",
       "\n",
       "    .dataframe tbody tr th {\n",
       "        vertical-align: top;\n",
       "    }\n",
       "\n",
       "    .dataframe thead th {\n",
       "        text-align: right;\n",
       "    }\n",
       "</style>\n",
       "<table border=\"1\" class=\"dataframe\">\n",
       "  <thead>\n",
       "    <tr style=\"text-align: right;\">\n",
       "      <th></th>\n",
       "      <th>left</th>\n",
       "      <th>right</th>\n",
       "    </tr>\n",
       "  </thead>\n",
       "  <tbody>\n",
       "    <tr>\n",
       "      <th>0</th>\n",
       "      <td>0</td>\n",
       "      <td>4</td>\n",
       "    </tr>\n",
       "    <tr>\n",
       "      <th>1</th>\n",
       "      <td>1</td>\n",
       "      <td>4</td>\n",
       "    </tr>\n",
       "    <tr>\n",
       "      <th>2</th>\n",
       "      <td>2</td>\n",
       "      <td>4</td>\n",
       "    </tr>\n",
       "    <tr>\n",
       "      <th>3</th>\n",
       "      <td>3</td>\n",
       "      <td>4</td>\n",
       "    </tr>\n",
       "    <tr>\n",
       "      <th>4</th>\n",
       "      <td>0</td>\n",
       "      <td>5</td>\n",
       "    </tr>\n",
       "  </tbody>\n",
       "</table>\n",
       "</div>"
      ],
      "text/plain": [
       "   left  right\n",
       "0     0      4\n",
       "1     1      4\n",
       "2     2      4\n",
       "3     3      4\n",
       "4     0      5"
      ]
     },
     "execution_count": 25,
     "metadata": {},
     "output_type": "execute_result"
    }
   ],
   "source": [
    "df = pd.read_csv('IsingSamplesDW/correlated_features.csv', index_col='Unnamed: 0')\n",
    "print(len(df))\n",
    "df.head()"
   ]
  },
  {
   "cell_type": "markdown",
   "metadata": {
    "colab_type": "text",
    "id": "1QYOpRUS901U"
   },
   "source": [
    "It is not clear what this data is and what they are representing. We would be happy to give it a shot, if we get more information. "
   ]
  },
  {
   "cell_type": "markdown",
   "metadata": {
    "colab_type": "text",
    "id": "ynr26lMF-Hub"
   },
   "source": [
    "# Business Application\n",
    "\n",
    "It seems to us that this is classical algorithm that gives a compact representation of the quantum states. \n",
    "\n",
    "This could be potentially helpful for validation and benchmarking the outcomes of a quantum computer or a quantum simulator that tries to solve problems in Quantum Chemistry. \n",
    "\n",
    "For NISQ devices, since error correction and FT is not available yet, we would need metrics to make sure that the quantum output is relevant. \n",
    "\n",
    "One approach would be that we train an RBM that mimics the state from the experimental data on the molecule and then compare it to the result of the quanutm computer or quantum simulator. \n",
    "\n",
    "This could be potentially interesting for companies like IBMQ and Google that aim at solveing quantum Chemistry problems using their NISQ devices. \n",
    "\n",
    "For the 90 sec. video, plese follow this link:\n",
    "\n",
    "https://drive.google.com/drive/folders/1nyog3QDPF9_2ES5k6dIMDEVECFrid3Ir?usp=sharing\n"
   ]
  }
 ],
 "metadata": {
  "colab": {
   "collapsed_sections": [
    "IOkq-0FyB0iI",
    "JMcrikFZB9R9",
    "HTQ_VGc4oho3"
   ],
   "name": "Week_1.ipynb",
   "provenance": []
  },
  "kernelspec": {
   "display_name": "Python 3",
   "language": "python",
   "name": "python3"
  },
  "language_info": {
   "codemirror_mode": {
    "name": "ipython",
    "version": 3
   },
   "file_extension": ".py",
   "mimetype": "text/x-python",
   "name": "python",
   "nbconvert_exporter": "python",
   "pygments_lexer": "ipython3",
   "version": "3.6.10"
  },
  "latex_envs": {
   "LaTeX_envs_menu_present": true,
   "autoclose": false,
   "autocomplete": true,
   "bibliofile": "biblio.bib",
   "cite_by": "apalike",
   "current_citInitial": 1,
   "eqLabelWithNumbers": true,
   "eqNumInitial": 1,
   "hotkeys": {
    "equation": "Ctrl-E",
    "itemize": "Ctrl-I"
   },
   "labels_anchors": false,
   "latex_user_defs": false,
   "report_style_numbering": false,
   "user_envs_cfg": false
  },
  "toc": {
   "base_numbering": 1,
   "nav_menu": {},
   "number_sections": true,
   "sideBar": true,
   "skip_h1_title": false,
   "title_cell": "Table of Contents",
   "title_sidebar": "Contents",
   "toc_cell": false,
   "toc_position": {},
   "toc_section_display": true,
   "toc_window_display": false
  },
  "varInspector": {
   "cols": {
    "lenName": 16,
    "lenType": 16,
    "lenVar": 40
   },
   "kernels_config": {
    "python": {
     "delete_cmd_postfix": "",
     "delete_cmd_prefix": "del ",
     "library": "var_list.py",
     "varRefreshCmd": "print(var_dic_list())"
    },
    "r": {
     "delete_cmd_postfix": ") ",
     "delete_cmd_prefix": "rm(",
     "library": "var_list.r",
     "varRefreshCmd": "cat(var_dic_list()) "
    }
   },
   "types_to_exclude": [
    "module",
    "function",
    "builtin_function_or_method",
    "instance",
    "_Feature"
   ],
   "window_display": false
  }
 },
 "nbformat": 4,
 "nbformat_minor": 1
}
