{
 "cells": [
  {
   "cell_type": "markdown",
   "metadata": {
    "colab_type": "text",
    "id": "pkXwls8yI45g"
   },
   "source": [
    "# Task #1 \n",
    "\n",
    "A template code for training an RBM on H$_2$ data for $r = 1.2$ is shown here. Modify this!\n",
    "\n",
    "Imports and loading in data:"
   ]
  },
  {
   "cell_type": "markdown",
   "metadata": {
    "colab_type": "text",
    "id": "RI-gjAILLRvX"
   },
   "source": [
    "# Start\n"
   ]
  },
  {
   "cell_type": "code",
   "execution_count": 1,
   "metadata": {
    "ExecuteTime": {
     "end_time": "2020-07-07T13:45:43.016368Z",
     "start_time": "2020-07-07T13:45:38.511400Z"
    },
    "colab": {
     "base_uri": "https://localhost:8080/",
     "height": 34
    },
    "colab_type": "code",
    "id": "JuoIvDqdI45j",
    "outputId": "9496a9a2-e5ba-4319-dae1-c59bb69fbdc8"
   },
   "outputs": [
    {
     "name": "stdout",
     "output_type": "stream",
     "text": [
      "H2 energy for r = 1.2:  -1.0642022250418146\n"
     ]
    }
   ],
   "source": [
    "import numpy as np\n",
    "import torch\n",
    "import matplotlib.pyplot as plt\n",
    "\n",
    "from RBM_helper import RBM\n",
    "\n",
    "import H2_energy_calculator\n",
    "\n",
    "# path = 'https://github.com/CDLQuantum2020Week1Team1/CohortProject_2020/tree/master/Project_1_RBM_and_Tomography/H2_data'\n",
    "\n",
    "training_data = torch.from_numpy(np.loadtxt(\"H2_data/R_1.2_samples.txt\"))\n",
    "coeff = np.loadtxt(\"H2_data/H2_coefficients.txt\")[20,:]\n",
    "\n",
    "true_energy = H2_energy_calculator.energy_from_freq(training_data, coeff)\n",
    "print(\"H2 energy for r = 1.2: \",true_energy)"
   ]
  },
  {
   "cell_type": "code",
   "execution_count": null,
   "metadata": {
    "ExecuteTime": {
     "end_time": "2020-07-07T10:59:37.580388Z",
     "start_time": "2020-07-07T10:57:58.692954Z"
    },
    "colab": {},
    "colab_type": "code",
    "id": "_1d5QDsKI45v"
   },
   "outputs": [],
   "source": [
    "# Let's see what we get from the energy function first. \n",
    "\n",
    "coeffs = np.loadtxt(\"H2_data/H2_coefficients.txt\")\n",
    "true_energies = []\n",
    "\n",
    "for coeff in coeffs:\n",
    "    i = coeff[0]\n",
    "    f = f\"H2_data/R_{i}_samples.txt\"\n",
    "    training_data = torch.from_numpy(np.loadtxt(f))\n",
    "    \n",
    "    true_energy = H2_energy_calculator.energy_from_freq(training_data, coeff)\n",
    "    true_energies += [ [i,true_energy] ]\n",
    "\n",
    "#     print(i)\n",
    "#     print(f, '\\n')\n",
    "\n",
    "true_energies = np.array(true_energies).T    "
   ]
  },
  {
   "cell_type": "code",
   "execution_count": null,
   "metadata": {
    "ExecuteTime": {
     "end_time": "2020-07-07T10:59:54.687384Z",
     "start_time": "2020-07-07T10:59:54.360451Z"
    },
    "colab": {
     "base_uri": "https://localhost:8080/",
     "height": 285
    },
    "colab_type": "code",
    "id": "3b42YJERI45z",
    "outputId": "79bcd5ee-96bb-4494-f606-1b7b464e504a"
   },
   "outputs": [
    {
     "data": {
      "text/plain": [
       "[<matplotlib.lines.Line2D at 0x7f20dd29e160>]"
      ]
     },
     "execution_count": 8,
     "metadata": {
      "tags": []
     },
     "output_type": "execute_result"
    },
    {
     "data": {
      "image/png": "[encoded data removed]",
      "text/plain": [
       "<Figure size 432x288 with 1 Axes>"
      ]
     },
     "metadata": {
      "needs_background": "light",
      "tags": []
     },
     "output_type": "display_data"
    }
   ],
   "source": [
    "plt.plot(*true_energies)"
   ]
  },
  {
   "cell_type": "markdown",
   "metadata": {
    "colab_type": "text",
    "id": "e3GHievTI456"
   },
   "source": [
    "# RBM Solution\n",
    "\n",
    "- Define the RBM\n",
    "\n",
    "- Train it  \n",
    "\n",
    "- Compare it to the true enery values"
   ]
  },
  {
   "cell_type": "code",
   "execution_count": 14,
   "metadata": {
    "ExecuteTime": {
     "end_time": "2020-07-07T11:08:25.488965Z",
     "start_time": "2020-07-07T11:08:25.480533Z"
    },
    "colab": {},
    "colab_type": "code",
    "id": "JzSJRA5PI457"
   },
   "outputs": [],
   "source": [
    "n_vis = 2\n",
    "n_hin = 10\n",
    "\n",
    "rbm = RBM(n_vis, n_hin)\n",
    "\n",
    "epochs = 500 # number of training steps\n",
    "num_samples = 1000 # number of samples to generate from the RBM to calculate the H2 energy"
   ]
  },
  {
   "cell_type": "markdown",
   "metadata": {
    "colab_type": "text",
    "id": "AkVH4XI8I45_"
   },
   "source": [
    "## Testing the code\n",
    "Train the RBM:"
   ]
  },
  {
   "cell_type": "code",
   "execution_count": null,
   "metadata": {
    "ExecuteTime": {
     "end_time": "2020-07-07T11:14:50.340880Z",
     "start_time": "2020-07-07T11:08:27.187930Z"
    },
    "colab": {
     "base_uri": "https://localhost:8080/",
     "height": 867
    },
    "colab_type": "code",
    "id": "tlnNs8bEI46A",
    "outputId": "d30c3859-6b54-4616-ab29-9b690c078561"
   },
   "outputs": [],
   "source": [
    "coeffs = np.loadtxt(\"H2_data/H2_coefficients.txt\")\n",
    "true_energies = []\n",
    "rbm_energies = []\n",
    "\n",
    "for coeff in coeffs[:2]:\n",
    "    rbm.initialize_parameters()\n",
    "    i = coeff[0]\n",
    "    f = f\"H2_data/R_{i}_samples.txt\"\n",
    "    training_data = torch.from_numpy(np.loadtxt(f))\n",
    "    \n",
    "    # True energy\n",
    "    true_energy = H2_energy_calculator.energy_from_freq(training_data, coeff)\n",
    "    true_energies += [ [i,true_energy] ]\n",
    "\n",
    "    # RBM\n",
    "    for e in range(1, epochs+1):\n",
    "        # do one epoch of training\n",
    "        rbm.train(training_data)   \n",
    "\n",
    "        # now generate samples and calculate the energy\n",
    "        if e % 100 == 0:\n",
    "            print(\"\\nEpoch: \", e)\n",
    "            print(\"Sampling the RBM...\")\n",
    "\n",
    "            # For sampling the RBM, we need to do Gibbs sampling.\n",
    "            # Initialize the Gibbs sampling chain with init_state as defined below.\n",
    "            init_state = torch.zeros(num_samples, n_vis)\n",
    "            RBM_samples = rbm.draw_samples(15, init_state)\n",
    "\n",
    "            print(\"Done sampling. Calculating energy...\")       \n",
    "\n",
    "            energies = H2_energy_calculator.energy(RBM_samples, coeff, rbm.wavefunction) \n",
    "            print(\"Energy from RBM samples: \", energies.item())\n",
    "        \n",
    "    rbm_energies +=[ [i, energies.item()] ]\n",
    "#     print(i)\n",
    "#     print(f, '\\n')\n",
    "\n",
    "true_energies = np.array(true_energies).T \n",
    "rbm_energies = np.array(rbm_energies).T \n",
    "np.savez_compressed('energies', rbm=rbm_energies, true=true_energies)"
   ]
  },
  {
   "cell_type": "code",
   "execution_count": null,
   "metadata": {
    "ExecuteTime": {
     "end_time": "2020-07-07T11:15:42.112984Z",
     "start_time": "2020-07-07T11:15:41.756699Z"
    },
    "colab": {
     "base_uri": "https://localhost:8080/",
     "height": 265
    },
    "colab_type": "code",
    "id": "XbcuX-9qI46E",
    "outputId": "c1f402a5-1a9d-449c-eb32-2b0e9e28c6a8"
   },
   "outputs": [
    {
     "data": {
      "image/png": "[encoded data removed]",
      "text/plain": [
       "<Figure size 432x288 with 1 Axes>"
      ]
     },
     "metadata": {
      "needs_background": "light",
      "tags": []
     },
     "output_type": "display_data"
    }
   ],
   "source": [
    "plt.plot(*true_energies, label='True Energy')\n",
    "plt.plot(*rbm_energies, label='RBM Energy')\n",
    "plt.legend(loc=0)\n",
    "plt.show()"
   ]
  },
  {
   "cell_type": "markdown",
   "metadata": {
    "colab_type": "text",
    "id": "F11c_-RUOiQ_"
   },
   "source": [
    "## Full training"
   ]
  },
  {
   "cell_type": "code",
   "execution_count": null,
   "metadata": {},
   "outputs": [],
   "source": [
    "n_vis = 2\n",
    "n_hin = 10\n",
    "\n",
    "rbm = RBM(n_vis, n_hin)\n",
    "\n",
    "epochs = 500 # number of training steps\n",
    "num_samples = 1000 # number of samples to generate from the RBM to calculate the H2 energy"
   ]
  },
  {
   "cell_type": "code",
   "execution_count": null,
   "metadata": {
    "colab": {},
    "colab_type": "code",
    "id": "Vlw6clTUI46N"
   },
   "outputs": [],
   "source": [
    "coeffs = np.loadtxt(\"H2_data/H2_coefficients.txt\")\n",
    "true_energies = []\n",
    "rbm_energies = []\n",
    "\n",
    "how_many_r = -1\n",
    "\n",
    "for coeff in coeffs[:how_many_r]:\n",
    "    rbm.initialize_parameters()\n",
    "    i = coeff[0]\n",
    "    f = f\"H2_data/R_{i}_samples.txt\"\n",
    "    training_data = torch.from_numpy(np.loadtxt(f))\n",
    "    \n",
    "    # True energy\n",
    "    true_energy = H2_energy_calculator.energy_from_freq(training_data, coeff)\n",
    "    true_energies += [ [i,true_energy] ]\n",
    "\n",
    "    # RBM\n",
    "    for e in range(1, epochs+1):\n",
    "        # do one epoch of training\n",
    "        rbm.train(training_data)   \n",
    "\n",
    "        # now generate samples and calculate the energy\n",
    "        if e % 90 == 0:\n",
    "            print(f'for this instance, r is ={i}. \\n')\n",
    "            print(\"\\nEpoch: \", e)\n",
    "            print(\"Sampling the RBM...\")\n",
    "\n",
    "            # For sampling the RBM, we need to do Gibbs sampling.\n",
    "            # Initialize the Gibbs sampling chain with init_state as defined below.\n",
    "            init_state = torch.zeros(num_samples, n_vis)\n",
    "            RBM_samples = rbm.draw_samples(15, init_state)\n",
    "\n",
    "            print(\"Done sampling. Calculating energy...\")       \n",
    "\n",
    "            energies = H2_energy_calculator.energy(RBM_samples, coeff, rbm.wavefunction) \n",
    "            print(\"Energy from RBM samples: \", energies.item())\n",
    "        \n",
    "    rbm_energies +=[ [i, energies.item()] ]\n",
    "#     print(i)\n",
    "#     print(f, '\\n')\n",
    "\n",
    "true_energies = np.array(true_energies).T \n",
    "rbm_energies = np.array(rbm_energies).T \n",
    "np.savez_compressed('energies', rbm=rbm_energies, true=true_energies)"
   ]
  },
  {
   "cell_type": "code",
   "execution_count": 16,
   "metadata": {
    "colab": {},
    "colab_type": "code",
    "id": "w58pRi0VOzpT"
   },
   "outputs": [],
   "source": [
    "data = np.load('energies.npz')\n",
    "true_e = data['true']\n",
    "rbm_e = data['rbm']"
   ]
  },
  {
   "cell_type": "code",
   "execution_count": 18,
   "metadata": {
    "colab": {
     "base_uri": "https://localhost:8080/",
     "height": 265
    },
    "colab_type": "code",
    "id": "-ZYRT7PFXFlL",
    "outputId": "94a176f4-8b44-4b38-aae3-3b6f1aba126b"
   },
   "outputs": [
    {
     "data": {
      "image/png": "[encoded data removed]",
      "text/plain": [
       "<Figure size 432x288 with 1 Axes>"
      ]
     },
     "metadata": {
      "needs_background": "light",
      "tags": []
     },
     "output_type": "display_data"
    }
   ],
   "source": [
    "plt.plot(*true_e, label='True Energy')\n",
    "plt.plot(*rbm_e, label='RBM Energy')\n",
    "plt.legend(loc=0)\n",
    "plt.savefig('prim_attempt.pdf')\n",
    "plt.show()"
   ]
  },
  {
   "cell_type": "code",
   "execution_count": null,
   "metadata": {
    "colab": {},
    "colab_type": "code",
    "id": "N4xJgYrbXxq8"
   },
   "outputs": [],
   "source": []
  }
 ],
 "metadata": {
  "accelerator": "GPU",
  "colab": {
   "collapsed_sections": [
    "BptVw3UhLYM9",
    "AkVH4XI8I45_"
   ],
   "name": "Task1-Solution.ipynb",
   "provenance": [],
   "toc_visible": true
  },
  "kernelspec": {
   "display_name": "Python 3",
   "language": "python",
   "name": "python3"
  },
  "language_info": {
   "codemirror_mode": {
    "name": "ipython",
    "version": 3
   },
   "file_extension": ".py",
   "mimetype": "text/x-python",
   "name": "python",
   "nbconvert_exporter": "python",
   "pygments_lexer": "ipython3",
   "version": "3.6.10"
  },
  "latex_envs": {
   "LaTeX_envs_menu_present": true,
   "autoclose": false,
   "autocomplete": true,
   "bibliofile": "biblio.bib",
   "cite_by": "apalike",
   "current_citInitial": 1,
   "eqLabelWithNumbers": true,
   "eqNumInitial": 1,
   "hotkeys": {
    "equation": "Ctrl-E",
    "itemize": "Ctrl-I"
   },
   "labels_anchors": false,
   "latex_user_defs": false,
   "report_style_numbering": false,
   "user_envs_cfg": false
  },
  "toc": {
   "base_numbering": 1,
   "nav_menu": {},
   "number_sections": true,
   "sideBar": true,
   "skip_h1_title": false,
   "title_cell": "Table of Contents",
   "title_sidebar": "Contents",
   "toc_cell": false,
   "toc_position": {},
   "toc_section_display": true,
   "toc_window_display": false
  },
  "varInspector": {
   "cols": {
    "lenName": 16,
    "lenType": 16,
    "lenVar": 40
   },
   "kernels_config": {
    "python": {
     "delete_cmd_postfix": "",
     "delete_cmd_prefix": "del ",
     "library": "var_list.py",
     "varRefreshCmd": "print(var_dic_list())"
    },
    "r": {
     "delete_cmd_postfix": ") ",
     "delete_cmd_prefix": "rm(",
     "library": "var_list.r",
     "varRefreshCmd": "cat(var_dic_list()) "
    }
   },
   "types_to_exclude": [
    "module",
    "function",
    "builtin_function_or_method",
    "instance",
    "_Feature"
   ],
   "window_display": false
  }
 },
 "nbformat": 4,
 "nbformat_minor": 1
}
