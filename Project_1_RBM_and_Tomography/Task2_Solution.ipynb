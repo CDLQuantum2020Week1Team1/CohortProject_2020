{
 "cells": [
  {
   "cell_type": "code",
   "execution_count": null,
   "metadata": {
    "colab": {},
    "colab_type": "code",
    "id": "0_QoxQMaNZcx"
   },
   "outputs": [],
   "source": [
    "import numpy as np\n",
    "import matplotlib.pyplot as plt\n",
    "plt.style.use('seaborn-talk')\n",
    "\n",
    "from tqdm import tqdm\n",
    "\n",
    "import torch"
   ]
  },
  {
   "cell_type": "markdown",
   "metadata": {
    "colab_type": "text",
    "id": "KKw4dWE5JNDn"
   },
   "source": [
    "# Task #2\n",
    "\n",
    "A template code for training an RBM on Rydberg atom data (the full dataset) is provided below. For the first part of this task (determining the minimum number of hidden units), start with 20 hidden units. \n",
    "\n",
    "Imports and loadining in data:"
   ]
  },
  {
   "cell_type": "code",
   "execution_count": 4,
   "metadata": {
    "ExecuteTime": {
     "end_time": "2020-07-08T08:07:44.566768Z",
     "start_time": "2020-07-08T08:07:40.281183Z"
    },
    "colab": {},
    "colab_type": "code",
    "id": "NsQsuCxwJNDo"
   },
   "outputs": [],
   "source": [
    "import numpy as np\n",
    "import matplotlib.pyplot as plt\n",
    "\n",
    "import torch\n",
    "from RBM_helper import RBM\n",
    "\n",
    "import Rydberg_energy_calculator\n",
    "\n",
    "training_data = torch.from_numpy(np.loadtxt(\"Rydberg_data.txt\"))"
   ]
  },
  {
   "cell_type": "code",
   "execution_count": null,
   "metadata": {
    "ExecuteTime": {
     "end_time": "2020-07-08T08:08:21.711727Z",
     "start_time": "2020-07-08T08:08:21.697015Z"
    },
    "colab": {},
    "colab_type": "code",
    "id": "YcyP1c4TJNDu",
    "outputId": "7cfea956-30ac-4733-c30f-544d8596761f"
   },
   "outputs": [
    {
     "data": {
      "text/plain": [
       "torch.Size([20000, 100])"
      ]
     },
     "execution_count": 5,
     "metadata": {
      "tags": []
     },
     "output_type": "execute_result"
    }
   ],
   "source": [
    "training_data.size()"
   ]
  },
  {
   "cell_type": "markdown",
   "metadata": {
    "colab_type": "text",
    "id": "5_Jbm9oYJND0"
   },
   "source": [
    "Define the RBM:"
   ]
  },
  {
   "cell_type": "code",
   "execution_count": 5,
   "metadata": {
    "ExecuteTime": {
     "end_time": "2020-07-08T08:09:58.708104Z",
     "start_time": "2020-07-08T08:09:58.687152Z"
    },
    "colab": {},
    "colab_type": "code",
    "id": "gehKj9bdJND1"
   },
   "outputs": [],
   "source": [
    "n_vis = training_data.shape[1]\n",
    "n_hin = 1\n",
    "\n",
    "rbm = RBM(n_vis, n_hin)"
   ]
  },
  {
   "cell_type": "markdown",
   "metadata": {
    "colab_type": "text",
    "id": "T-C1TJWzJND5"
   },
   "source": [
    "Train the RBM:"
   ]
  },
  {
   "cell_type": "code",
   "execution_count": null,
   "metadata": {
    "ExecuteTime": {
     "end_time": "2020-07-08T08:16:12.244997Z",
     "start_time": "2020-07-08T08:11:51.665377Z"
    },
    "colab": {},
    "colab_type": "code",
    "id": "vttKiJaHJND5",
    "outputId": "a5ace504-108c-45ca-ab1e-d8ffe4900338"
   },
   "outputs": [
    {
     "name": "stdout",
     "output_type": "stream",
     "text": [
      "Exact energy:  -4.1203519096\n",
      "\n",
      "Epoch:  100\n",
      "Sampling...\n",
      "Done sampling. Calculating energy...\n",
      "Energy from RBM samples:  -4.120345998271888\n"
     ]
    }
   ],
   "source": [
    "epochs = 100\n",
    "num_samples = 200\n",
    "\n",
    "exact_energy = -4.1203519096\n",
    "print(\"Exact energy: \",exact_energy)\n",
    "\n",
    "for e in range(1, epochs+1):\n",
    "    # do one epoch of training\n",
    "    rbm.train(training_data)   \n",
    " \n",
    "    # now generate samples and calculate the energy\n",
    "    if e % 100 == 0:\n",
    "        print(\"\\nEpoch: \", e)\n",
    "        print(\"Sampling...\")\n",
    "\n",
    "        init_state = torch.zeros(num_samples, n_vis)\n",
    "        RBM_samples = rbm.draw_samples(100, init_state)\n",
    "\n",
    "        print(\"Done sampling. Calculating energy...\") \n",
    " \n",
    "        energies = Rydberg_energy_calculator.energy(RBM_samples, rbm.wavefunction) \n",
    "        print(\"Energy from RBM samples: \", energies.item())"
   ]
  },
  {
   "cell_type": "markdown",
   "metadata": {
    "colab_type": "text",
    "id": "1mQCWRFsJNEB"
   },
   "source": [
    "# Part1: How many hidden units?"
   ]
  },
  {
   "cell_type": "code",
   "execution_count": 5,
   "metadata": {
    "colab": {},
    "colab_type": "code",
    "id": "Z_uRLPf9AHoc"
   },
   "outputs": [],
   "source": [
    "import numpy as np\n",
    "import matplotlib.pyplot as plt\n",
    "plt.style.use('seaborn-talk')\n",
    "\n",
    "import datetime\n",
    "import pickle\n",
    "\n",
    "import torch\n",
    "from RBM_helper import RBM\n",
    "\n",
    "import Rydberg_energy_calculator\n",
    "\n",
    "training_data = torch.from_numpy(np.loadtxt(\"Rydberg_data.txt\"))\n",
    "\n",
    "epochs = 100\n",
    "num_samples = 200\n",
    "\n",
    "exact_energy = -4.1203519096"
   ]
  },
  {
   "cell_type": "code",
   "execution_count": 6,
   "metadata": {
    "colab": {
     "base_uri": "https://localhost:8080/",
     "height": 34
    },
    "colab_type": "code",
    "id": "8d5IA0HQLS3H",
    "outputId": "f17e93e6-0739-402b-d5bc-da79de51df45"
   },
   "outputs": [
    {
     "name": "stdout",
     "output_type": "stream",
     "text": [
      "Exact energy:  -4.1203519096\n"
     ]
    }
   ],
   "source": [
    "n_vis = training_data.shape[1]\n",
    "n_hin = 1\n",
    "\n",
    "rbm = RBM(n_vis, n_hin)\n",
    "\n",
    "\n",
    "\n",
    "epochs = 100\n",
    "num_samples = 200\n",
    "\n",
    "exact_energy = -4.1203519096\n",
    "print(\"Exact energy: \",exact_energy)"
   ]
  },
  {
   "cell_type": "code",
   "execution_count": 7,
   "metadata": {
    "ExecuteTime": {
     "end_time": "2020-07-08T14:51:24.753619Z",
     "start_time": "2020-07-08T14:51:24.718646Z"
    },
    "colab": {},
    "colab_type": "code",
    "id": "m30qSRHHJNEJ"
   },
   "outputs": [],
   "source": [
    "'''\n",
    "I am going to transform the code above to a \n",
    "function that returns min n_h needed. \n",
    "'''\n",
    "\n",
    "def min_nh_finder(training_data, num_samples = 200, epochs = 100, Trshld = .0001, nh_max = 10, n_test = 5 ):\n",
    "\n",
    "    n_h_list = np.arange(1,nh_max, 1)#np.array([1, 3, 6, 9 ])  ## List of the values we want to try for the #hidden units. \n",
    "    test_rate = int(epochs/n_test)\n",
    "\n",
    "    Met_Learning_Cond = False\n",
    "    error_list_list = []\n",
    "\n",
    "    Min_nh_Needed = 0\n",
    "    n_vis = training_data.shape[1]\n",
    "\n",
    "\n",
    "    for n_h in n_h_list:\n",
    "\n",
    "        error_list = []\n",
    "\n",
    "        rbm = RBM(n_vis, n_h)\n",
    "        rbm.initialize_parameters()\n",
    "\n",
    "        print(f'\\n \\n************\\n Now let\\'s try {n_h} hidden units. ')\n",
    "        for e in range(1, epochs+1):\n",
    "            # do one epoch of training\n",
    "            rbm.train(training_data)   \n",
    "\n",
    "            ## Stop condition\n",
    "            if e % test_rate == 0:\n",
    "                print(\"\\n Epoch: \", e)\n",
    "        #         print(\"Sampling...\")\n",
    "\n",
    "                init_state = torch.zeros(num_samples, n_vis)\n",
    "                RBM_samples = rbm.draw_samples(100, init_state)\n",
    "\n",
    "        #         print(\"Done sampling. Calculating energy...\") \n",
    "\n",
    "                energies = Rydberg_energy_calculator.energy(RBM_samples, rbm.wavefunction) \n",
    "                print(\" Energy from RBM samples: \", energies.item())\n",
    "\n",
    "                energy_difference = np.abs(energies.item() - exact_energy) ## Note that this has to be positive. \n",
    "                print(\" The error (energy difference) is : \", energy_difference )\n",
    "                error_list += [ [e,energy_difference] ]\n",
    "                \n",
    "                if np.abs(energy_difference) <Trshld:\n",
    "#                     print('Yeah, met the learning condition!')\n",
    "                    Min_nh_Needed = n_h\n",
    "                    \n",
    "                    ### This is to save the model. \n",
    "                    now = datetime.datetime.now( )\n",
    "                    model_name = f'Task2_Part1_{now.day}-{now.hour}-{now.minute}.pkl'\n",
    "                    print(f'The model was saved as {model_name}.pkl. ')\n",
    "                    with  open(model_name , 'wb') as f:\n",
    "                        pickle.dump(rbm, f)\n",
    "                    Met_Learning_Cond = True\n",
    "                    break\n",
    "#                 else:\n",
    "#                     print('Be a bit more patient, I\\'m working on it!')\n",
    "\n",
    "        error_list_list += [error_list]\n",
    "\n",
    "        ## If satisfied, we need the break the outter loop too. \n",
    "        if Met_Learning_Cond:\n",
    "            break\n",
    "\n",
    "    if Met_Learning_Cond:\n",
    "        print('\\n========\\n********\\n Training successful!')\n",
    "        print(f' Learning criterion reached in {e} epoch for {Min_nh_Needed} hidden nodes. ')\n",
    "        return Min_nh_Needed, error_list_list, n_h_list\n",
    "    else:\n",
    "        print('\\n========\\n********\\n Did not get there! need to try more hidden units...')\n",
    "        return -1, error_list_list, n_h_list  # This is to indicate that it did not converge. \n",
    "\n"
   ]
  },
  {
   "cell_type": "code",
   "execution_count": 8,
   "metadata": {
    "ExecuteTime": {
     "end_time": "2020-07-08T14:29:27.557369Z",
     "start_time": "2020-07-08T14:27:29.680890Z"
    },
    "colab": {
     "base_uri": "https://localhost:8080/",
     "height": 1000
    },
    "colab_type": "code",
    "id": "OIYSWUsIJNEP",
    "outputId": "c59abda5-a72e-4f50-90f8-d3dd60891079"
   },
   "outputs": [
    {
     "name": "stdout",
     "output_type": "stream",
     "text": [
      "\n",
      " \n",
      "************\n",
      " Now let's try 1 hidden units. \n",
      "\n",
      " Epoch:  100\n"
     ]
    },
    {
     "name": "stderr",
     "output_type": "stream",
     "text": [
      "/pytorch/aten/src/ATen/native/BinaryOps.cpp:81: UserWarning: Integer division of tensors using div or / is deprecated, and in a future release div will perform true division as in Python 3. Use true_divide or floor_divide (// in Python) instead.\n"
     ]
    },
    {
     "name": "stdout",
     "output_type": "stream",
     "text": [
      " Energy from RBM samples:  -4.1200389136921745\n",
      " The error (energy difference) is :  0.0003129959078256306\n",
      "\n",
      " Epoch:  200\n",
      " Energy from RBM samples:  -4.1202445638418235\n",
      " The error (energy difference) is :  0.00010734575817661351\n",
      "\n",
      " Epoch:  300\n",
      " Energy from RBM samples:  -4.120122572598137\n",
      " The error (energy difference) is :  0.00022933700186289485\n",
      "\n",
      " Epoch:  400\n",
      " Energy from RBM samples:  -4.119763410523758\n",
      " The error (energy difference) is :  0.0005884990762421438\n",
      "\n",
      " Epoch:  500\n",
      " Energy from RBM samples:  -4.120173920185927\n",
      " The error (energy difference) is :  0.00017798941407320967\n",
      "\n",
      " \n",
      "************\n",
      " Now let's try 2 hidden units. \n",
      "\n",
      " Epoch:  100\n",
      " Energy from RBM samples:  -4.1198197684021505\n",
      " The error (energy difference) is :  0.0005321411978496116\n",
      "\n",
      " Epoch:  200\n",
      " Energy from RBM samples:  -4.11953958173771\n",
      " The error (energy difference) is :  0.0008123278622900187\n",
      "\n",
      " Epoch:  300\n",
      " Energy from RBM samples:  -4.119949186294541\n",
      " The error (energy difference) is :  0.0004027233054593182\n",
      "\n",
      " Epoch:  400\n",
      " Energy from RBM samples:  -4.11992210777848\n",
      " The error (energy difference) is :  0.00042980182151985957\n",
      "\n",
      " Epoch:  500\n",
      " Energy from RBM samples:  -4.120152309879659\n",
      " The error (energy difference) is :  0.00019959972034122586\n",
      "\n",
      " \n",
      "************\n",
      " Now let's try 3 hidden units. \n",
      "\n",
      " Epoch:  100\n",
      " Energy from RBM samples:  -4.119884356529871\n",
      " The error (energy difference) is :  0.0004675530701288011\n",
      "\n",
      " Epoch:  200\n",
      " Energy from RBM samples:  -4.1199518047180215\n",
      " The error (energy difference) is :  0.0004001048819786135\n",
      "\n",
      " Epoch:  300\n",
      " Energy from RBM samples:  -4.1200541436040945\n",
      " The error (energy difference) is :  0.0002977659959055856\n",
      "\n",
      " Epoch:  400\n",
      " Energy from RBM samples:  -4.1202216475813165\n",
      " The error (energy difference) is :  0.00013026201868360232\n",
      "\n",
      " Epoch:  500\n",
      " Energy from RBM samples:  -4.119956393782561\n",
      " The error (energy difference) is :  0.00039551581743868525\n",
      "\n",
      " \n",
      "************\n",
      " Now let's try 4 hidden units. \n",
      "\n",
      " Epoch:  100\n",
      " Energy from RBM samples:  -4.1200303086843775\n",
      " The error (energy difference) is :  0.00032160091562261073\n",
      "\n",
      " Epoch:  200\n",
      " Energy from RBM samples:  -4.120165595955646\n",
      " The error (energy difference) is :  0.00018631364435428566\n",
      "\n",
      " Epoch:  300\n",
      " Energy from RBM samples:  -4.11981657252274\n",
      " The error (energy difference) is :  0.0005353370772605004\n",
      "\n",
      " Epoch:  400\n",
      " Energy from RBM samples:  -4.120006577237185\n",
      " The error (energy difference) is :  0.00034533236281486523\n",
      "\n",
      " Epoch:  500\n",
      " Energy from RBM samples:  -4.120083317418681\n",
      " The error (energy difference) is :  0.00026859218131924933\n",
      "\n",
      " \n",
      "************\n",
      " Now let's try 5 hidden units. \n",
      "\n",
      " Epoch:  100\n",
      " Energy from RBM samples:  -4.119817962586151\n",
      " The error (energy difference) is :  0.0005339470138494562\n",
      "\n",
      " Epoch:  200\n",
      " Energy from RBM samples:  -4.12011646234729\n",
      " The error (energy difference) is :  0.0002354472527104079\n",
      "\n",
      " Epoch:  300\n",
      " Energy from RBM samples:  -4.119771715054768\n",
      " The error (energy difference) is :  0.000580194545231727\n",
      "\n",
      " Epoch:  400\n",
      " Energy from RBM samples:  -4.119860259054134\n",
      " The error (energy difference) is :  0.0004916505458663067\n",
      "\n",
      " Epoch:  500\n",
      " Energy from RBM samples:  -4.120164680030795\n",
      " The error (energy difference) is :  0.0001872295692049164\n",
      "\n",
      " \n",
      "************\n",
      " Now let's try 6 hidden units. \n",
      "\n",
      " Epoch:  100\n",
      " Energy from RBM samples:  -4.1200348256963295\n",
      " The error (energy difference) is :  0.0003170839036705786\n",
      "\n",
      " Epoch:  200\n",
      " Energy from RBM samples:  -4.1198312308506475\n",
      " The error (energy difference) is :  0.0005206787493525766\n",
      "\n",
      " Epoch:  300\n",
      " Energy from RBM samples:  -4.120087888776117\n",
      " The error (energy difference) is :  0.00026402082388266024\n",
      "\n",
      " Epoch:  400\n",
      " Energy from RBM samples:  -4.120189389364493\n",
      " The error (energy difference) is :  0.00016252023550666905\n",
      "\n",
      " Epoch:  500\n",
      " Energy from RBM samples:  -4.119969807431531\n",
      " The error (energy difference) is :  0.00038210216846934486\n",
      "\n",
      " \n",
      "************\n",
      " Now let's try 7 hidden units. \n",
      "\n",
      " Epoch:  100\n",
      " Energy from RBM samples:  -4.1203961560704885\n",
      " The error (energy difference) is :  4.424647048839603e-05\n",
      "\n",
      "========\n",
      "********\n",
      " Training successful!\n",
      " Learning criterion reached in 100 epoch for 7 hidden nodes. \n"
     ]
    },
    {
     "name": "stderr",
     "output_type": "stream",
     "text": [
      "/usr/local/lib/python3.6/dist-packages/torch/storage.py:34: FutureWarning: pickle support for Storage will be removed in 1.5. Use `torch.save` instead\n",
      "  warnings.warn(\"pickle support for Storage will be removed in 1.5. Use `torch.save` instead\", FutureWarning)\n"
     ]
    }
   ],
   "source": [
    "nh_min, e_list, nh_list = min_nh_finder(training_data, Trshld=.0001, epochs=500, num_samples=2000)"
   ]
  },
  {
   "cell_type": "code",
   "execution_count": null,
   "metadata": {
    "colab": {},
    "colab_type": "code",
    "id": "mDHoOUbr_Gq0"
   },
   "outputs": [],
   "source": [
    "with  open('Task2_Part1_nh3.pkl', 'rb') as f:\n",
    "    model = pickle.load(f)"
   ]
  },
  {
   "cell_type": "code",
   "execution_count": 9,
   "metadata": {
    "colab": {
     "base_uri": "https://localhost:8080/",
     "height": 51
    },
    "colab_type": "code",
    "id": "0iwrT4X8_H6S",
    "outputId": "cbaeda7e-43ac-4b2b-dcae-89c6cc19f893"
   },
   "outputs": [
    {
     "name": "stdout",
     "output_type": "stream",
     "text": [
      "Done sampling. Calculating energy...\n"
     ]
    },
    {
     "data": {
      "text/plain": [
       "tensor(-1.0371, dtype=torch.float64)"
      ]
     },
     "execution_count": 9,
     "metadata": {
      "tags": []
     },
     "output_type": "execute_result"
    }
   ],
   "source": [
    "init_state = torch.zeros(num_samples, n_vis)\n",
    "RBM_samples = rbm.draw_samples(100, init_state)\n",
    "\n",
    "print(\"Done sampling. Calculating energy...\") \n",
    "\n",
    "energies = Rydberg_energy_calculator.energy(RBM_samples, rbm.wavefunction) \n",
    "energies\n",
    "\n"
   ]
  },
  {
   "cell_type": "markdown",
   "metadata": {},
   "source": [
    "This is not right. There is a problem. This does not reproduce the results. "
   ]
  },
  {
   "cell_type": "markdown",
   "metadata": {
    "colab_type": "text",
    "id": "daIpSPduJNES"
   },
   "source": [
    "## Part 2"
   ]
  },
  {
   "cell_type": "code",
   "execution_count": null,
   "metadata": {
    "colab": {},
    "colab_type": "code",
    "id": "lG-f9C7FJNEo"
   },
   "outputs": [],
   "source": []
  }
 ],
 "metadata": {
  "colab": {
   "collapsed_sections": [
    "BptVw3UhLYM9",
    "IOkq-0FyB0iI",
    "KKw4dWE5JNDn"
   ],
   "name": "Task2_Solution.ipynb",
   "provenance": [],
   "toc_visible": true
  },
  "kernelspec": {
   "display_name": "Python 3",
   "language": "python",
   "name": "python3"
  },
  "language_info": {
   "codemirror_mode": {
    "name": "ipython",
    "version": 3
   },
   "file_extension": ".py",
   "mimetype": "text/x-python",
   "name": "python",
   "nbconvert_exporter": "python",
   "pygments_lexer": "ipython3",
   "version": "3.6.10"
  },
  "latex_envs": {
   "LaTeX_envs_menu_present": true,
   "autoclose": false,
   "autocomplete": true,
   "bibliofile": "biblio.bib",
   "cite_by": "apalike",
   "current_citInitial": 1,
   "eqLabelWithNumbers": true,
   "eqNumInitial": 1,
   "hotkeys": {
    "equation": "Ctrl-E",
    "itemize": "Ctrl-I"
   },
   "labels_anchors": false,
   "latex_user_defs": false,
   "report_style_numbering": false,
   "user_envs_cfg": false
  },
  "toc": {
   "base_numbering": 1,
   "nav_menu": {},
   "number_sections": true,
   "sideBar": true,
   "skip_h1_title": false,
   "title_cell": "Table of Contents",
   "title_sidebar": "Contents",
   "toc_cell": false,
   "toc_position": {},
   "toc_section_display": true,
   "toc_window_display": false
  },
  "varInspector": {
   "cols": {
    "lenName": 16,
    "lenType": 16,
    "lenVar": 40
   },
   "kernels_config": {
    "python": {
     "delete_cmd_postfix": "",
     "delete_cmd_prefix": "del ",
     "library": "var_list.py",
     "varRefreshCmd": "print(var_dic_list())"
    },
    "r": {
     "delete_cmd_postfix": ") ",
     "delete_cmd_prefix": "rm(",
     "library": "var_list.r",
     "varRefreshCmd": "cat(var_dic_list()) "
    }
   },
   "types_to_exclude": [
    "module",
    "function",
    "builtin_function_or_method",
    "instance",
    "_Feature"
   ],
   "window_display": false
  }
 },
 "nbformat": 4,
 "nbformat_minor": 1
}
