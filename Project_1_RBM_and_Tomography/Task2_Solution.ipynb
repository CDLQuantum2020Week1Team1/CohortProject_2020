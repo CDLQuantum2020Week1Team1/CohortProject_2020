{
 "cells": [
  {
   "cell_type": "markdown",
   "metadata": {},
   "source": [
    "# Task #2\n",
    "\n",
    "A template code for training an RBM on Rydberg atom data (the full dataset) is provided below. For the first part of this task (determining the minimum number of hidden units), start with 20 hidden units. \n",
    "\n",
    "Imports and loadining in data:"
   ]
  },
  {
   "cell_type": "code",
   "execution_count": 1,
   "metadata": {
    "ExecuteTime": {
     "end_time": "2020-07-08T08:07:44.566768Z",
     "start_time": "2020-07-08T08:07:40.281183Z"
    }
   },
   "outputs": [],
   "source": [
    "import numpy as np\n",
    "import torch\n",
    "from RBM_helper import RBM\n",
    "\n",
    "import Rydberg_energy_calculator\n",
    "\n",
    "training_data = torch.from_numpy(np.loadtxt(\"Rydberg_data.txt\"))"
   ]
  },
  {
   "cell_type": "code",
   "execution_count": 5,
   "metadata": {
    "ExecuteTime": {
     "end_time": "2020-07-08T08:08:21.711727Z",
     "start_time": "2020-07-08T08:08:21.697015Z"
    }
   },
   "outputs": [
    {
     "data": {
      "text/plain": [
       "torch.Size([20000, 100])"
      ]
     },
     "execution_count": 5,
     "metadata": {},
     "output_type": "execute_result"
    }
   ],
   "source": [
    "training_data.size()"
   ]
  },
  {
   "cell_type": "markdown",
   "metadata": {},
   "source": [
    "Define the RBM:"
   ]
  },
  {
   "cell_type": "code",
   "execution_count": 6,
   "metadata": {
    "ExecuteTime": {
     "end_time": "2020-07-08T08:09:58.708104Z",
     "start_time": "2020-07-08T08:09:58.687152Z"
    }
   },
   "outputs": [],
   "source": [
    "n_vis = training_data.shape[1]\n",
    "n_hin = 1\n",
    "\n",
    "rbm = RBM(n_vis, n_hin)"
   ]
  },
  {
   "cell_type": "markdown",
   "metadata": {},
   "source": [
    "Train the RBM:"
   ]
  },
  {
   "cell_type": "code",
   "execution_count": 7,
   "metadata": {
    "ExecuteTime": {
     "end_time": "2020-07-08T08:16:12.244997Z",
     "start_time": "2020-07-08T08:11:51.665377Z"
    }
   },
   "outputs": [
    {
     "name": "stdout",
     "output_type": "stream",
     "text": [
      "Exact energy:  -4.1203519096\n",
      "\n",
      "Epoch:  100\n",
      "Sampling...\n",
      "Done sampling. Calculating energy...\n",
      "Energy from RBM samples:  -4.120345998271888\n"
     ]
    }
   ],
   "source": [
    "epochs = 100\n",
    "num_samples = 200\n",
    "\n",
    "exact_energy = -4.1203519096\n",
    "print(\"Exact energy: \",exact_energy)\n",
    "\n",
    "for e in range(1, epochs+1):\n",
    "    # do one epoch of training\n",
    "    rbm.train(training_data)   \n",
    " \n",
    "    # now generate samples and calculate the energy\n",
    "    if e % 100 == 0:\n",
    "        print(\"\\nEpoch: \", e)\n",
    "        print(\"Sampling...\")\n",
    "\n",
    "        init_state = torch.zeros(num_samples, n_vis)\n",
    "        RBM_samples = rbm.draw_samples(100, init_state)\n",
    "\n",
    "        print(\"Done sampling. Calculating energy...\") \n",
    " \n",
    "        energies = Rydberg_energy_calculator.energy(RBM_samples, rbm.wavefunction) \n",
    "        print(\"Energy from RBM samples: \", energies.item())"
   ]
  },
  {
   "cell_type": "markdown",
   "metadata": {},
   "source": [
    "# Part1: How many hidden units?"
   ]
  },
  {
   "cell_type": "code",
   "execution_count": 28,
   "metadata": {
    "ExecuteTime": {
     "end_time": "2020-07-08T12:56:48.262506Z",
     "start_time": "2020-07-08T12:56:48.228443Z"
    }
   },
   "outputs": [],
   "source": [
    "from tqdm import tqdm"
   ]
  },
  {
   "cell_type": "code",
   "execution_count": 29,
   "metadata": {
    "ExecuteTime": {
     "end_time": "2020-07-08T13:11:26.208469Z",
     "start_time": "2020-07-08T12:58:23.075956Z"
    }
   },
   "outputs": [
    {
     "name": "stderr",
     "output_type": "stream",
     "text": [
      "\r",
      "  0%|                                                                                          | 0/100 [00:00<?, ?it/s]"
     ]
    },
    {
     "name": "stdout",
     "output_type": "stream",
     "text": [
      "\n",
      " Now let's try 1 hidden units. \n"
     ]
    },
    {
     "name": "stderr",
     "output_type": "stream",
     "text": [
      " 29%|███████████████████████▍                                                         | 29/100 [01:13<03:08,  2.65s/it]"
     ]
    },
    {
     "name": "stdout",
     "output_type": "stream",
     "text": [
      "\n",
      " Epoch:  30\n"
     ]
    },
    {
     "name": "stderr",
     "output_type": "stream",
     "text": [
      "\r",
      " 30%|████████████████████████▎                                                        | 30/100 [01:16<03:29,  2.99s/it]"
     ]
    },
    {
     "name": "stdout",
     "output_type": "stream",
     "text": [
      "Energy from RBM samples:  -4.114351900386652\n",
      "Be a bit more patient, I'm working on it!\n"
     ]
    },
    {
     "name": "stderr",
     "output_type": "stream",
     "text": [
      " 59%|███████████████████████████████████████████████▊                                 | 59/100 [02:22<01:38,  2.41s/it]"
     ]
    },
    {
     "name": "stdout",
     "output_type": "stream",
     "text": [
      "\n",
      " Epoch:  60\n"
     ]
    },
    {
     "name": "stderr",
     "output_type": "stream",
     "text": [
      "\r",
      " 60%|████████████████████████████████████████████████▌                                | 60/100 [02:26<01:45,  2.65s/it]"
     ]
    },
    {
     "name": "stdout",
     "output_type": "stream",
     "text": [
      "Energy from RBM samples:  -4.120773408783798\n",
      "Be a bit more patient, I'm working on it!\n"
     ]
    },
    {
     "name": "stderr",
     "output_type": "stream",
     "text": [
      " 89%|████████████████████████████████████████████████████████████████████████         | 89/100 [03:34<00:25,  2.27s/it]"
     ]
    },
    {
     "name": "stdout",
     "output_type": "stream",
     "text": [
      "\n",
      " Epoch:  90\n"
     ]
    },
    {
     "name": "stderr",
     "output_type": "stream",
     "text": [
      "\r",
      " 90%|████████████████████████████████████████████████████████████████████████▉        | 90/100 [03:37<00:26,  2.64s/it]"
     ]
    },
    {
     "name": "stdout",
     "output_type": "stream",
     "text": [
      "Energy from RBM samples:  -4.117686937401358\n",
      "Be a bit more patient, I'm working on it!\n"
     ]
    },
    {
     "name": "stderr",
     "output_type": "stream",
     "text": [
      "100%|████████████████████████████████████████████████████████████████████████████████| 100/100 [04:01<00:00,  2.41s/it]\n",
      "  0%|                                                                                          | 0/100 [00:00<?, ?it/s]"
     ]
    },
    {
     "name": "stdout",
     "output_type": "stream",
     "text": [
      "\n",
      " Now let's try 2 hidden units. \n"
     ]
    },
    {
     "name": "stderr",
     "output_type": "stream",
     "text": [
      " 29%|███████████████████████▍                                                         | 29/100 [01:44<05:41,  4.80s/it]"
     ]
    },
    {
     "name": "stdout",
     "output_type": "stream",
     "text": [
      "\n",
      " Epoch:  30\n"
     ]
    },
    {
     "name": "stderr",
     "output_type": "stream",
     "text": [
      "\r",
      " 30%|████████████████████████▎                                                        | 30/100 [01:52<06:42,  5.75s/it]"
     ]
    },
    {
     "name": "stdout",
     "output_type": "stream",
     "text": [
      "Energy from RBM samples:  -4.116872617887894\n",
      "Be a bit more patient, I'm working on it!\n"
     ]
    },
    {
     "name": "stderr",
     "output_type": "stream",
     "text": [
      " 59%|███████████████████████████████████████████████▊                                 | 59/100 [03:18<01:43,  2.53s/it]"
     ]
    },
    {
     "name": "stdout",
     "output_type": "stream",
     "text": [
      "\n",
      " Epoch:  60\n"
     ]
    },
    {
     "name": "stderr",
     "output_type": "stream",
     "text": [
      "\r",
      " 60%|████████████████████████████████████████████████▌                                | 60/100 [03:23<02:17,  3.44s/it]"
     ]
    },
    {
     "name": "stdout",
     "output_type": "stream",
     "text": [
      "Energy from RBM samples:  -4.1201424291119215\n",
      "Be a bit more patient, I'm working on it!\n"
     ]
    },
    {
     "name": "stderr",
     "output_type": "stream",
     "text": [
      " 89%|████████████████████████████████████████████████████████████████████████         | 89/100 [04:44<00:30,  2.78s/it]"
     ]
    },
    {
     "name": "stdout",
     "output_type": "stream",
     "text": [
      "\n",
      " Epoch:  90\n"
     ]
    },
    {
     "name": "stderr",
     "output_type": "stream",
     "text": [
      "\r",
      " 90%|████████████████████████████████████████████████████████████████████████▉        | 90/100 [04:47<00:29,  2.97s/it]"
     ]
    },
    {
     "name": "stdout",
     "output_type": "stream",
     "text": [
      "Energy from RBM samples:  -4.1202366308630305\n",
      "Be a bit more patient, I'm working on it!\n"
     ]
    },
    {
     "name": "stderr",
     "output_type": "stream",
     "text": [
      "100%|████████████████████████████████████████████████████████████████████████████████| 100/100 [05:12<00:00,  3.13s/it]\n",
      "  0%|                                                                                          | 0/100 [00:00<?, ?it/s]"
     ]
    },
    {
     "name": "stdout",
     "output_type": "stream",
     "text": [
      "\n",
      " Now let's try 3 hidden units. \n"
     ]
    },
    {
     "name": "stderr",
     "output_type": "stream",
     "text": [
      " 29%|███████████████████████▍                                                         | 29/100 [01:18<02:51,  2.42s/it]"
     ]
    },
    {
     "name": "stdout",
     "output_type": "stream",
     "text": [
      "\n",
      " Epoch:  30\n"
     ]
    },
    {
     "name": "stderr",
     "output_type": "stream",
     "text": [
      "\r",
      " 30%|████████████████████████▎                                                        | 30/100 [01:21<03:16,  2.80s/it]"
     ]
    },
    {
     "name": "stdout",
     "output_type": "stream",
     "text": [
      "Energy from RBM samples:  -4.119449825076894\n",
      "Be a bit more patient, I'm working on it!\n"
     ]
    },
    {
     "name": "stderr",
     "output_type": "stream",
     "text": [
      " 59%|███████████████████████████████████████████████▊                                 | 59/100 [02:30<01:37,  2.37s/it]"
     ]
    },
    {
     "name": "stdout",
     "output_type": "stream",
     "text": [
      "\n",
      " Epoch:  60\n"
     ]
    },
    {
     "name": "stderr",
     "output_type": "stream",
     "text": [
      "\r",
      " 60%|████████████████████████████████████████████████▌                                | 60/100 [02:34<01:47,  2.69s/it]"
     ]
    },
    {
     "name": "stdout",
     "output_type": "stream",
     "text": [
      "Energy from RBM samples:  -4.119529897972115\n",
      "Be a bit more patient, I'm working on it!\n"
     ]
    },
    {
     "name": "stderr",
     "output_type": "stream",
     "text": [
      " 89%|████████████████████████████████████████████████████████████████████████         | 89/100 [03:44<00:30,  2.79s/it]"
     ]
    },
    {
     "name": "stdout",
     "output_type": "stream",
     "text": [
      "\n",
      " Epoch:  90\n"
     ]
    },
    {
     "name": "stderr",
     "output_type": "stream",
     "text": [
      "\r",
      " 89%|████████████████████████████████████████████████████████████████████████         | 89/100 [03:48<00:28,  2.57s/it]"
     ]
    },
    {
     "name": "stdout",
     "output_type": "stream",
     "text": [
      "Energy from RBM samples:  -4.120389021341187\n",
      "Yeah, met the learning condition!\n",
      "\n",
      "                Given 100 num of epochs and \n",
      "                200 number of samples and \n",
      "                the learning condition =0.0001, \n",
      "                We we need at least 3 to reach the learning Cond.\n"
     ]
    },
    {
     "name": "stderr",
     "output_type": "stream",
     "text": [
      "\n"
     ]
    }
   ],
   "source": [
    "n_h_list = np.arange(1,5)#np.array([1, 3, 6, 9 ])  ## List of the values we want to try for the #hidden units. \n",
    "\n",
    "Trshld = .0001  #Threshold for the learning criterion \n",
    "Met_Learning_Cond = False\n",
    "\n",
    "epochs = 100  ## I'm starting with 100 epochs for the experimentation/prototype \n",
    "num_samples = 200   ## I'm starting with 200 num samples for the experimentation/prototype \n",
    "Min_nh_Needed = 0\n",
    "n_vis = training_data.shape[1]\n",
    "\n",
    "test_rate = 30\n",
    "\n",
    "\n",
    "\n",
    "for n_h in n_h_list:\n",
    "    \n",
    "    \n",
    "    rbm = RBM(n_vis, n_h)\n",
    "    print(f'\\n Now let\\'s try {n_h} hidden units. ')\n",
    "    for e in tqdm(range(1, epochs+1)):\n",
    "        # do one epoch of training\n",
    "        rbm.train(training_data)   \n",
    "    \n",
    "        ## Stop condition\n",
    "        if e % test_rate == 0:\n",
    "            print(\"\\n Epoch: \", e)\n",
    "    #         print(\"Sampling...\")\n",
    "\n",
    "            init_state = torch.zeros(num_samples, n_vis)\n",
    "            RBM_samples = rbm.draw_samples(100, init_state)\n",
    "\n",
    "    #         print(\"Done sampling. Calculating energy...\") \n",
    "\n",
    "            energies = Rydberg_energy_calculator.energy(RBM_samples, rbm.wavefunction) \n",
    "            print(\"Energy from RBM samples: \", energies.item())\n",
    "            \n",
    "            energy_difference = np.abs(energies.item() - exact_energy) ## Note that this has to be positive. \n",
    "\n",
    "            if np.abs(energy_difference) <Trshld:\n",
    "                print('Yeah, met the learning condition!')\n",
    "                Min_nh_Needed = n_h\n",
    "                print(f'''\n",
    "                Given {epochs} num of epochs and \n",
    "                {num_samples} number of samples and \n",
    "                the learning condition ={Trshld}, \n",
    "                We we need at least {Min_nh_Needed} to reach the learning Cond.''')\n",
    "                \n",
    "                Met_Learning_Cond = True\n",
    "                break\n",
    "            else:\n",
    "                print('Be a bit more patient, I\\'m working on it!')\n",
    "                \n",
    "    ## If satisfied, we need the break the outter loop too. \n",
    "    if Met_Learning_Cond:\n",
    "        break\n",
    "        \n",
    "if not Met_Learning_Cond:\n",
    "    print('Did not get there! need to try more hidden units...')\n",
    "    \n"
   ]
  },
  {
   "cell_type": "code",
   "execution_count": null,
   "metadata": {},
   "outputs": [],
   "source": []
  }
 ],
 "metadata": {
  "kernelspec": {
   "display_name": "Python 3",
   "language": "python",
   "name": "python3"
  },
  "language_info": {
   "codemirror_mode": {
    "name": "ipython",
    "version": 3
   },
   "file_extension": ".py",
   "mimetype": "text/x-python",
   "name": "python",
   "nbconvert_exporter": "python",
   "pygments_lexer": "ipython3",
   "version": "3.6.10"
  },
  "latex_envs": {
   "LaTeX_envs_menu_present": true,
   "autoclose": false,
   "autocomplete": true,
   "bibliofile": "biblio.bib",
   "cite_by": "apalike",
   "current_citInitial": 1,
   "eqLabelWithNumbers": true,
   "eqNumInitial": 1,
   "hotkeys": {
    "equation": "Ctrl-E",
    "itemize": "Ctrl-I"
   },
   "labels_anchors": false,
   "latex_user_defs": false,
   "report_style_numbering": false,
   "user_envs_cfg": false
  },
  "toc": {
   "base_numbering": 1,
   "nav_menu": {},
   "number_sections": true,
   "sideBar": true,
   "skip_h1_title": false,
   "title_cell": "Table of Contents",
   "title_sidebar": "Contents",
   "toc_cell": false,
   "toc_position": {},
   "toc_section_display": true,
   "toc_window_display": false
  },
  "varInspector": {
   "cols": {
    "lenName": 16,
    "lenType": 16,
    "lenVar": 40
   },
   "kernels_config": {
    "python": {
     "delete_cmd_postfix": "",
     "delete_cmd_prefix": "del ",
     "library": "var_list.py",
     "varRefreshCmd": "print(var_dic_list())"
    },
    "r": {
     "delete_cmd_postfix": ") ",
     "delete_cmd_prefix": "rm(",
     "library": "var_list.r",
     "varRefreshCmd": "cat(var_dic_list()) "
    }
   },
   "types_to_exclude": [
    "module",
    "function",
    "builtin_function_or_method",
    "instance",
    "_Feature"
   ],
   "window_display": false
  }
 },
 "nbformat": 4,
 "nbformat_minor": 2
}
