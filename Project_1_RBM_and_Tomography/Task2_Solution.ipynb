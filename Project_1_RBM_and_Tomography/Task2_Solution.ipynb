{
 "cells": [
  {
   "cell_type": "code",
   "execution_count": 1,
   "metadata": {
    "ExecuteTime": {
     "end_time": "2020-07-09T10:49:28.411317Z",
     "start_time": "2020-07-09T10:49:26.114739Z"
    },
    "colab": {},
    "colab_type": "code",
    "id": "0_QoxQMaNZcx"
   },
   "outputs": [],
   "source": [
    "import numpy as np\n",
    "import matplotlib.pyplot as plt\n",
    "plt.style.use('seaborn-talk')\n",
    "\n",
    "from tqdm import tqdm\n",
    "\n",
    "import torch"
   ]
  },
  {
   "cell_type": "markdown",
   "metadata": {
    "colab_type": "text",
    "heading_collapsed": true,
    "id": "BptVw3UhLYM9"
   },
   "source": [
    "# Importing data to gdrive"
   ]
  },
  {
   "cell_type": "markdown",
   "metadata": {
    "colab_type": "text",
    "heading_collapsed": true,
    "hidden": true,
    "id": "IOkq-0FyB0iI"
   },
   "source": [
    "## One time stuff"
   ]
  },
  {
   "cell_type": "code",
   "execution_count": null,
   "metadata": {
    "colab": {
     "base_uri": "https://localhost:8080/",
     "height": 136
    },
    "colab_type": "code",
    "hidden": true,
    "id": "IW-PFJtrJg9h",
    "outputId": "13ac4ac4-9762-4410-a2b4-95704a29dbfb"
   },
   "outputs": [
    {
     "name": "stdout",
     "output_type": "stream",
     "text": [
      "Cloning into 'CohortProject_2020'...\n",
      "remote: Enumerating objects: 4, done.\u001b[K\n",
      "remote: Counting objects: 100% (4/4), done.\u001b[K\n",
      "remote: Compressing objects: 100% (4/4), done.\u001b[K\n",
      "remote: Total 727 (delta 0), reused 1 (delta 0), pack-reused 723\u001b[K\n",
      "Receiving objects: 100% (727/727), 19.37 MiB | 7.10 MiB/s, done.\n",
      "Resolving deltas: 100% (393/393), done.\n"
     ]
    }
   ],
   "source": [
    "# !git clone https://github.com/CDLQuantum2020Week1Team1/CohortProject_2020.git"
   ]
  },
  {
   "cell_type": "code",
   "execution_count": null,
   "metadata": {
    "colab": {},
    "colab_type": "code",
    "hidden": true,
    "id": "rz_fY8wEKceU"
   },
   "outputs": [],
   "source": [
    "# !cp -r '/content/CohortProject_2020'  '/content/drive/My Drive/CDL'"
   ]
  },
  {
   "cell_type": "markdown",
   "metadata": {
    "colab_type": "text",
    "hidden": true,
    "id": "JMcrikFZB9R9"
   },
   "source": [
    "## Loading dir"
   ]
  },
  {
   "cell_type": "code",
   "execution_count": 1,
   "metadata": {
    "colab": {
     "base_uri": "https://localhost:8080/",
     "height": 122
    },
    "colab_type": "code",
    "hidden": true,
    "id": "-aecVC5SKATM",
    "outputId": "0d87bbcb-842a-4e95-ba6d-be09149053ca"
   },
   "outputs": [
    {
     "name": "stdout",
     "output_type": "stream",
     "text": [
      "Go to this URL in a browser: https://accounts.google.com/o/oauth2/auth?client_id=947318989803-6bn6qk8qdgf4n4g3pfee6491hc0brc4i.apps.googleusercontent.com&redirect_uri=urn%3aietf%3awg%3aoauth%3a2.0%3aoob&response_type=code&scope=email%20https%3a%2f%2fwww.googleapis.com%2fauth%2fdocs.test%20https%3a%2f%2fwww.googleapis.com%2fauth%2fdrive%20https%3a%2f%2fwww.googleapis.com%2fauth%2fdrive.photos.readonly%20https%3a%2f%2fwww.googleapis.com%2fauth%2fpeopleapi.readonly\n",
      "\n",
      "Enter your authorization code:\n",
      "··········\n",
      "Mounted at /content/drive\n"
     ]
    }
   ],
   "source": [
    "from google.colab import drive \n",
    "drive.mount('/content/drive')"
   ]
  },
  {
   "cell_type": "code",
   "execution_count": 2,
   "metadata": {
    "colab": {},
    "colab_type": "code",
    "hidden": true,
    "id": "fPSKf5u8LFfJ"
   },
   "outputs": [],
   "source": [
    "base_dir = '/content/drive/My Drive/CDL/CohortProject_2020/Project_1_RBM_and_Tomography'"
   ]
  },
  {
   "cell_type": "code",
   "execution_count": 3,
   "metadata": {
    "colab": {
     "base_uri": "https://localhost:8080/",
     "height": 51
    },
    "colab_type": "code",
    "hidden": true,
    "id": "TEcJGVVJLfrG",
    "outputId": "a4f7f3f0-1358-4fea-969d-f166e424a90e"
   },
   "outputs": [
    {
     "name": "stdout",
     "output_type": "stream",
     "text": [
      "/content/drive/My Drive/CDL/CohortProject_2020/Project_1_RBM_and_Tomography\n",
      "/content/drive/My Drive/CDL/CohortProject_2020/Project_1_RBM_and_Tomography\n"
     ]
    }
   ],
   "source": [
    "%cd /content/drive/My Drive/CDL/CohortProject_2020/Project_1_RBM_and_Tomography\n",
    "!pwd"
   ]
  },
  {
   "cell_type": "markdown",
   "metadata": {
    "colab_type": "text",
    "id": "KKw4dWE5JNDn"
   },
   "source": [
    "# Task #2\n",
    "\n",
    "A template code for training an RBM on Rydberg atom data (the full dataset) is provided below. For the first part of this task (determining the minimum number of hidden units), start with 20 hidden units. \n",
    "\n",
    "Imports and loadining in data:"
   ]
  },
  {
   "cell_type": "code",
   "execution_count": 2,
   "metadata": {
    "ExecuteTime": {
     "end_time": "2020-07-09T10:49:33.799918Z",
     "start_time": "2020-07-09T10:49:29.702500Z"
    },
    "colab": {},
    "colab_type": "code",
    "id": "NsQsuCxwJNDo"
   },
   "outputs": [],
   "source": [
    "import numpy as np\n",
    "import matplotlib.pyplot as plt\n",
    "\n",
    "import torch\n",
    "from RBM_helper import RBM\n",
    "\n",
    "import Rydberg_energy_calculator\n",
    "\n",
    "training_data = torch.from_numpy(np.loadtxt(\"Rydberg_data.txt\"))"
   ]
  },
  {
   "cell_type": "code",
   "execution_count": 3,
   "metadata": {
    "ExecuteTime": {
     "end_time": "2020-07-09T10:49:34.082083Z",
     "start_time": "2020-07-09T10:49:34.063559Z"
    },
    "colab": {},
    "colab_type": "code",
    "id": "YcyP1c4TJNDu",
    "outputId": "7cfea956-30ac-4733-c30f-544d8596761f"
   },
   "outputs": [
    {
     "data": {
      "text/plain": [
       "torch.Size([20000, 100])"
      ]
     },
     "execution_count": 3,
     "metadata": {},
     "output_type": "execute_result"
    }
   ],
   "source": [
    "training_data.size()"
   ]
  },
  {
   "cell_type": "markdown",
   "metadata": {
    "colab_type": "text",
    "id": "5_Jbm9oYJND0"
   },
   "source": [
    "Define the RBM:"
   ]
  },
  {
   "cell_type": "code",
   "execution_count": 4,
   "metadata": {
    "ExecuteTime": {
     "end_time": "2020-07-09T10:49:34.297959Z",
     "start_time": "2020-07-09T10:49:34.282424Z"
    },
    "colab": {},
    "colab_type": "code",
    "id": "gehKj9bdJND1"
   },
   "outputs": [],
   "source": [
    "n_vis = training_data.shape[1]\n",
    "n_hin = 1\n",
    "\n",
    "rbm = RBM(n_vis, n_hin)"
   ]
  },
  {
   "cell_type": "code",
   "execution_count": 5,
   "metadata": {
    "ExecuteTime": {
     "end_time": "2020-07-09T10:49:34.518212Z",
     "start_time": "2020-07-09T10:49:34.505142Z"
    },
    "colab": {
     "base_uri": "https://localhost:8080/",
     "height": 34
    },
    "colab_type": "code",
    "id": "8d5IA0HQLS3H",
    "outputId": "a43187c8-ea80-4fc0-f21e-73b7540e017a"
   },
   "outputs": [
    {
     "name": "stdout",
     "output_type": "stream",
     "text": [
      "Exact energy:  -4.1203519096\n"
     ]
    }
   ],
   "source": [
    "epochs = 100\n",
    "num_samples = 200\n",
    "\n",
    "exact_energy = -4.1203519096\n",
    "print(\"Exact energy: \",exact_energy)"
   ]
  },
  {
   "cell_type": "markdown",
   "metadata": {
    "colab_type": "text",
    "id": "T-C1TJWzJND5"
   },
   "source": [
    "Train the RBM:"
   ]
  },
  {
   "cell_type": "code",
   "execution_count": null,
   "metadata": {
    "ExecuteTime": {
     "end_time": "2020-07-08T08:16:12.244997Z",
     "start_time": "2020-07-08T08:11:51.665377Z"
    },
    "colab": {},
    "colab_type": "code",
    "id": "vttKiJaHJND5",
    "outputId": "a5ace504-108c-45ca-ab1e-d8ffe4900338"
   },
   "outputs": [
    {
     "name": "stdout",
     "output_type": "stream",
     "text": [
      "Exact energy:  -4.1203519096\n",
      "\n",
      "Epoch:  100\n",
      "Sampling...\n",
      "Done sampling. Calculating energy...\n",
      "Energy from RBM samples:  -4.120345998271888\n"
     ]
    }
   ],
   "source": [
    "epochs = 100\n",
    "num_samples = 200\n",
    "\n",
    "exact_energy = -4.1203519096\n",
    "print(\"Exact energy: \",exact_energy)\n",
    "\n",
    "for e in range(1, epochs+1):\n",
    "    # do one epoch of training\n",
    "    rbm.train(training_data)   \n",
    " \n",
    "    # now generate samples and calculate the energy\n",
    "    if e % 100 == 0:\n",
    "        print(\"\\nEpoch: \", e)\n",
    "        print(\"Sampling...\")\n",
    "\n",
    "        init_state = torch.zeros(num_samples, n_vis)\n",
    "        RBM_samples = rbm.draw_samples(100, init_state)\n",
    "\n",
    "        print(\"Done sampling. Calculating energy...\") \n",
    " \n",
    "        energies = Rydberg_energy_calculator.energy(RBM_samples, rbm.wavefunction) \n",
    "        print(\"Energy from RBM samples: \", energies.item())"
   ]
  },
  {
   "cell_type": "markdown",
   "metadata": {
    "colab_type": "text",
    "id": "1mQCWRFsJNEB"
   },
   "source": [
    "# Part1: How many hidden units?"
   ]
  },
  {
   "cell_type": "code",
   "execution_count": 6,
   "metadata": {
    "ExecuteTime": {
     "end_time": "2020-07-09T10:49:47.920583Z",
     "start_time": "2020-07-09T10:49:42.641261Z"
    }
   },
   "outputs": [],
   "source": [
    "import numpy as np\n",
    "import matplotlib.pyplot as plt\n",
    "plt.style.use('seaborn-talk')\n",
    "\n",
    "import torch\n",
    "from RBM_helper import RBM\n",
    "\n",
    "import Rydberg_energy_calculator\n",
    "\n",
    "training_data = torch.from_numpy(np.loadtxt(\"Rydberg_data.txt\"))\n",
    "\n",
    "epochs = 100\n",
    "num_samples = 200\n",
    "\n",
    "exact_energy = -4.1203519096"
   ]
  },
  {
   "cell_type": "code",
   "execution_count": 6,
   "metadata": {
    "ExecuteTime": {
     "end_time": "2020-07-09T10:48:07.727334Z",
     "start_time": "2020-07-09T10:38:08.610292Z"
    },
    "colab": {},
    "colab_type": "code",
    "id": "bSM08-QfJNEF",
    "outputId": "2a27d978-298b-48d9-a4b4-20bcc17f1f04"
   },
   "outputs": [
    {
     "name": "stderr",
     "output_type": "stream",
     "text": [
      "\r",
      "  0%|                                                                                          | 0/100 [00:00<?, ?it/s]"
     ]
    },
    {
     "name": "stdout",
     "output_type": "stream",
     "text": [
      "\n",
      " Now let's try 1 hidden units. \n"
     ]
    },
    {
     "name": "stderr",
     "output_type": "stream",
     "text": [
      " 29%|███████████████████████▍                                                         | 29/100 [01:26<03:27,  2.93s/it]"
     ]
    },
    {
     "name": "stdout",
     "output_type": "stream",
     "text": [
      "\n",
      " Epoch:  30\n"
     ]
    },
    {
     "name": "stderr",
     "output_type": "stream",
     "text": [
      "\r",
      " 30%|████████████████████████▎                                                        | 30/100 [01:31<03:55,  3.36s/it]"
     ]
    },
    {
     "name": "stdout",
     "output_type": "stream",
     "text": [
      "Energy from RBM samples:  -4.113229966444804\n",
      "Be a bit more patient, I'm working on it!\n"
     ]
    },
    {
     "name": "stderr",
     "output_type": "stream",
     "text": [
      " 59%|███████████████████████████████████████████████▊                                 | 59/100 [02:59<02:09,  3.15s/it]"
     ]
    },
    {
     "name": "stdout",
     "output_type": "stream",
     "text": [
      "\n",
      " Epoch:  60\n"
     ]
    },
    {
     "name": "stderr",
     "output_type": "stream",
     "text": [
      "\r",
      " 60%|████████████████████████████████████████████████▌                                | 60/100 [03:04<02:25,  3.65s/it]"
     ]
    },
    {
     "name": "stdout",
     "output_type": "stream",
     "text": [
      "Energy from RBM samples:  -4.118646429049262\n",
      "Be a bit more patient, I'm working on it!\n"
     ]
    },
    {
     "name": "stderr",
     "output_type": "stream",
     "text": [
      " 89%|████████████████████████████████████████████████████████████████████████         | 89/100 [04:35<00:35,  3.20s/it]"
     ]
    },
    {
     "name": "stdout",
     "output_type": "stream",
     "text": [
      "\n",
      " Epoch:  90\n"
     ]
    },
    {
     "name": "stderr",
     "output_type": "stream",
     "text": [
      "\r",
      " 90%|████████████████████████████████████████████████████████████████████████▉        | 90/100 [04:40<00:35,  3.56s/it]"
     ]
    },
    {
     "name": "stdout",
     "output_type": "stream",
     "text": [
      "Energy from RBM samples:  -4.120162274167112\n",
      "Be a bit more patient, I'm working on it!\n"
     ]
    },
    {
     "name": "stderr",
     "output_type": "stream",
     "text": [
      "100%|████████████████████████████████████████████████████████████████████████████████| 100/100 [05:13<00:00,  3.14s/it]\n",
      "  0%|                                                                                          | 0/100 [00:00<?, ?it/s]"
     ]
    },
    {
     "name": "stdout",
     "output_type": "stream",
     "text": [
      "\n",
      " Now let's try 2 hidden units. \n"
     ]
    },
    {
     "name": "stderr",
     "output_type": "stream",
     "text": [
      " 29%|███████████████████████▍                                                         | 29/100 [01:30<03:37,  3.07s/it]"
     ]
    },
    {
     "name": "stdout",
     "output_type": "stream",
     "text": [
      "\n",
      " Epoch:  30\n"
     ]
    },
    {
     "name": "stderr",
     "output_type": "stream",
     "text": [
      "\r",
      " 30%|████████████████████████▎                                                        | 30/100 [01:36<04:23,  3.77s/it]"
     ]
    },
    {
     "name": "stdout",
     "output_type": "stream",
     "text": [
      "Energy from RBM samples:  -4.117750067229578\n",
      "Be a bit more patient, I'm working on it!\n"
     ]
    },
    {
     "name": "stderr",
     "output_type": "stream",
     "text": [
      " 59%|███████████████████████████████████████████████▊                                 | 59/100 [03:06<02:06,  3.08s/it]"
     ]
    },
    {
     "name": "stdout",
     "output_type": "stream",
     "text": [
      "\n",
      " Epoch:  60\n"
     ]
    },
    {
     "name": "stderr",
     "output_type": "stream",
     "text": [
      "\r",
      " 60%|████████████████████████████████████████████████▌                                | 60/100 [03:10<02:18,  3.47s/it]"
     ]
    },
    {
     "name": "stdout",
     "output_type": "stream",
     "text": [
      "Energy from RBM samples:  -4.120046746142475\n",
      "Be a bit more patient, I'm working on it!\n"
     ]
    },
    {
     "name": "stderr",
     "output_type": "stream",
     "text": [
      " 89%|████████████████████████████████████████████████████████████████████████         | 89/100 [04:40<00:33,  3.06s/it]"
     ]
    },
    {
     "name": "stdout",
     "output_type": "stream",
     "text": [
      "\n",
      " Epoch:  90\n"
     ]
    },
    {
     "name": "stderr",
     "output_type": "stream",
     "text": [
      "\r",
      " 89%|████████████████████████████████████████████████████████████████████████         | 89/100 [04:45<00:35,  3.20s/it]"
     ]
    },
    {
     "name": "stdout",
     "output_type": "stream",
     "text": [
      "Energy from RBM samples:  -4.120266714975722\n",
      "Yeah, met the learning condition!\n",
      "\n",
      "                Given 100 num of epochs and \n",
      "                200 number of samples and \n",
      "                the learning condition =0.0001, \n",
      "                We we need at least 2 to reach the learning Cond.\n"
     ]
    },
    {
     "name": "stderr",
     "output_type": "stream",
     "text": [
      "\n"
     ]
    }
   ],
   "source": [
    "n_h_list = np.arange(1,5)#np.array([1, 3, 6, 9 ])  ## List of the values we want to try for the #hidden units. \n",
    "\n",
    "Trshld = .0001  #Threshold for the learning criterion \n",
    "Met_Learning_Cond = False\n",
    "\n",
    "epochs = 100  ## I'm starting with 100 epochs for the experimentation/prototype \n",
    "num_samples = 200   ## I'm starting with 200 num samples for the experimentation/prototype \n",
    "Min_nh_Needed = 0\n",
    "n_vis = training_data.shape[1]\n",
    "\n",
    "test_rate = 30\n",
    "\n",
    "\n",
    "\n",
    "for n_h in n_h_list:\n",
    "    \n",
    "    \n",
    "    rbm = RBM(n_vis, n_h)\n",
    "    print(f'\\n Now let\\'s try {n_h} hidden units. ')\n",
    "    for e in tqdm(range(1, epochs+1)):\n",
    "        # do one epoch of training\n",
    "        rbm.train(training_data)   \n",
    "    \n",
    "        ## Stop condition\n",
    "        if e % test_rate == 0:\n",
    "            print(\"\\n Epoch: \", e)\n",
    "    #         print(\"Sampling...\")\n",
    "\n",
    "            init_state = torch.zeros(num_samples, n_vis)\n",
    "            RBM_samples = rbm.draw_samples(100, init_state)\n",
    "\n",
    "    #         print(\"Done sampling. Calculating energy...\") \n",
    "\n",
    "            energies = Rydberg_energy_calculator.energy(RBM_samples, rbm.wavefunction) \n",
    "            print(\"Energy from RBM samples: \", energies.item())\n",
    "            \n",
    "            energy_difference = np.abs(energies.item() - exact_energy) ## Note that this has to be positive. \n",
    "\n",
    "            if np.abs(energy_difference) <Trshld:\n",
    "                print('Yeah, met the learning condition!')\n",
    "                Min_nh_Needed = n_h\n",
    "                print(f'''\n",
    "                Given {epochs} num of epochs and \n",
    "                {num_samples} number of samples and \n",
    "                the learning condition ={Trshld}, \n",
    "                We we need at least {Min_nh_Needed} to reach the learning Cond.''')\n",
    "                \n",
    "                Met_Learning_Cond = True\n",
    "                break\n",
    "            else:\n",
    "                print('Be a bit more patient, I\\'m working on it!')\n",
    "                \n",
    "    ## If satisfied, we need the break the outter loop too. \n",
    "    if Met_Learning_Cond:\n",
    "        break\n",
    "        \n",
    "if not Met_Learning_Cond:\n",
    "    print('Did not get there! need to try more hidden units...')\n",
    "    \n"
   ]
  },
  {
   "cell_type": "code",
   "execution_count": 45,
   "metadata": {
    "ExecuteTime": {
     "end_time": "2020-07-09T14:13:03.642874Z",
     "start_time": "2020-07-09T14:13:03.606997Z"
    },
    "colab": {},
    "colab_type": "code",
    "id": "m30qSRHHJNEJ"
   },
   "outputs": [],
   "source": [
    "'''\n",
    "I am going to transform the code above to a \n",
    "function that returns min n_h needed. \n",
    "'''\n",
    "\n",
    "def min_nh_finder(training_data, num_samples = 200, epochs = 100, Trshld = .0001, nh_max = 10, n_test = 5 ):\n",
    "\n",
    "    n_h_list = np.arange(1,nh_max, 1)#np.array([1, 3, 6, 9 ])  ## List of the values we want to try for the #hidden units. \n",
    "    test_rate = int(epochs/n_test)\n",
    "\n",
    "    Met_Learning_Cond = False\n",
    "    error_list_list = []\n",
    "\n",
    "    Min_nh_Needed = 0\n",
    "    n_vis = training_data.shape[1]\n",
    "\n",
    "\n",
    "    for n_h in n_h_list:\n",
    "\n",
    "        error_list = []\n",
    "\n",
    "        rbm = RBM(n_vis, n_h)\n",
    "        rbm.initialize_parameters()\n",
    "\n",
    "        print(f'\\n \\n************\\n Now let\\'s try {n_h} hidden units. ')\n",
    "        for e in range(1, epochs+1):\n",
    "            # do one epoch of training\n",
    "            rbm.train(training_data)   \n",
    "\n",
    "            ## Stop condition\n",
    "            if e % test_rate == 0:\n",
    "                print(\"\\n Epoch: \", e)\n",
    "        #         print(\"Sampling...\")\n",
    "\n",
    "                init_state = torch.zeros(num_samples, n_vis)\n",
    "                RBM_samples = rbm.draw_samples(100, init_state)\n",
    "\n",
    "        #         print(\"Done sampling. Calculating energy...\") \n",
    "\n",
    "                energies = Rydberg_energy_calculator.energy(RBM_samples, rbm.wavefunction) \n",
    "                print(\" Energy from RBM samples: \", energies.item())\n",
    "\n",
    "                energy_difference = np.abs(energies.item() - exact_energy) ## Note that this has to be positive. \n",
    "                print(\" The error (energy difference) is : \", energy_difference )\n",
    "                error_list += [ [e,energy_difference] ]\n",
    "                \n",
    "                if np.abs(energy_difference) <Trshld:\n",
    "#                     print('Yeah, met the learning condition!')\n",
    "                    Min_nh_Needed = n_h\n",
    "                    \n",
    "                    ### This is to save the model. \n",
    "                    now = datetime.datetime.now( )\n",
    "                    with  open(f'Task2_Part1_{now.day}-{now.hour}-{now.minute}.pkl', 'wb') as f:\n",
    "                        pickle.dump(rbm, f)\n",
    "                    Met_Learning_Cond = True\n",
    "                    break\n",
    "#                 else:\n",
    "#                     print('Be a bit more patient, I\\'m working on it!')\n",
    "\n",
    "        error_list_list += [error_list]\n",
    "\n",
    "        ## If satisfied, we need the break the outter loop too. \n",
    "        if Met_Learning_Cond:\n",
    "            break\n",
    "\n",
    "    if Met_Learning_Cond:\n",
    "        print('\\n========\\n********\\n Training successful!')\n",
    "        print(f' Learning criterion reached in {e} epoch for {Min_nh_Needed} hidden nodes. ')\n",
    "        return Min_nh_Needed, error_list_list, n_h_list\n",
    "    else:\n",
    "        print('\\n========\\n********\\n Did not get there! need to try more hidden units...')\n",
    "        return -1, error_list_list, n_h_list  # This is to indicate that it did not converge. \n",
    "\n"
   ]
  },
  {
   "cell_type": "code",
   "execution_count": 47,
   "metadata": {
    "ExecuteTime": {
     "end_time": "2020-07-09T14:15:03.575227Z",
     "start_time": "2020-07-09T14:15:03.569170Z"
    },
    "colab": {
     "base_uri": "https://localhost:8080/",
     "height": 170
    },
    "colab_type": "code",
    "id": "OIYSWUsIJNEP",
    "outputId": "4d52a509-bde3-4c9f-9e4c-daa9038491bb"
   },
   "outputs": [],
   "source": [
    "nh_min, e_list, nh_list = min_nh_finder(training_data, Trshld=.0001, epochs=400, num_samples=1000)"
   ]
  },
  {
   "cell_type": "code",
   "execution_count": 25,
   "metadata": {
    "ExecuteTime": {
     "end_time": "2020-07-09T14:00:18.217134Z",
     "start_time": "2020-07-09T14:00:18.188212Z"
    }
   },
   "outputs": [],
   "source": [
    "with  open('Task2_Part1_nh3.pkl', 'rb') as f:\n",
    "    model = pickle.load(f)"
   ]
  },
  {
   "cell_type": "code",
   "execution_count": 34,
   "metadata": {
    "ExecuteTime": {
     "end_time": "2020-07-09T14:06:09.262540Z",
     "start_time": "2020-07-09T14:06:07.821285Z"
    }
   },
   "outputs": [
    {
     "name": "stdout",
     "output_type": "stream",
     "text": [
      "Done sampling. Calculating energy...\n"
     ]
    },
    {
     "data": {
      "text/plain": [
       "tensor(-0.9896, dtype=torch.float64)"
      ]
     },
     "execution_count": 34,
     "metadata": {},
     "output_type": "execute_result"
    }
   ],
   "source": [
    "init_state = torch.zeros(num_samples, n_vis)\n",
    "RBM_samples = rbm.draw_samples(100, init_state)\n",
    "\n",
    "print(\"Done sampling. Calculating energy...\") \n",
    "\n",
    "energies = Rydberg_energy_calculator.energy(RBM_samples, rbm.wavefunction) \n",
    "energies"
   ]
  },
  {
   "cell_type": "code",
   "execution_count": 24,
   "metadata": {
    "ExecuteTime": {
     "end_time": "2020-07-09T14:00:16.694592Z",
     "start_time": "2020-07-09T14:00:16.684619Z"
    }
   },
   "outputs": [],
   "source": [
    "import pickle\n",
    "with  open('Task2_Part1_nh3.pkl', 'wb') as f:\n",
    "    pickle.dump(rbm, f)"
   ]
  },
  {
   "cell_type": "markdown",
   "metadata": {
    "colab_type": "text",
    "id": "1mQCWRFsJNEB"
   },
   "source": [
    "# Part2: How much data? The minimal representation."
   ]
  },
  {
   "cell_type": "code",
   "execution_count": 13,
   "metadata": {
    "ExecuteTime": {
     "end_time": "2020-07-09T09:20:39.118075Z",
     "start_time": "2020-07-09T09:20:34.494410Z"
    }
   },
   "outputs": [],
   "source": [
    "import numpy as np\n",
    "import matplotlib.pyplot as plt\n",
    "plt.style.use('seaborn-talk')\n",
    "\n",
    "import torch\n",
    "from RBM_helper import RBM\n",
    "\n",
    "import Rydberg_energy_calculator\n",
    "\n",
    "training_data = torch.from_numpy(np.loadtxt(\"Rydberg_data.txt\"))\n",
    "\n",
    "epochs = 100\n",
    "num_samples = 200\n",
    "\n",
    "exact_energy = -4.1203519096"
   ]
  },
  {
   "cell_type": "code",
   "execution_count": 14,
   "metadata": {
    "ExecuteTime": {
     "end_time": "2020-07-09T09:20:39.237124Z",
     "start_time": "2020-07-09T09:20:39.217334Z"
    },
    "colab": {
     "base_uri": "https://localhost:8080/",
     "height": 34
    },
    "colab_type": "code",
    "id": "ZRtYJkDUJNET",
    "outputId": "09c39a11-cf9c-46ab-baff-e992d788d953"
   },
   "outputs": [
    {
     "data": {
      "text/plain": [
       "20000"
      ]
     },
     "execution_count": 14,
     "metadata": {},
     "output_type": "execute_result"
    }
   ],
   "source": [
    "n_total_samples = len(training_data)\n",
    "n_total_samples"
   ]
  },
  {
   "cell_type": "code",
   "execution_count": 15,
   "metadata": {
    "ExecuteTime": {
     "end_time": "2020-07-09T09:20:41.851025Z",
     "start_time": "2020-07-09T09:20:41.837730Z"
    },
    "colab": {},
    "colab_type": "code",
    "id": "X90rSNYmJNEW"
   },
   "outputs": [],
   "source": [
    "'''\n",
    "This function gets the data and returns \n",
    "a random subset with n samples. \n",
    "'''\n",
    "\n",
    "def return_subset(data, n= n_total_samples):\n",
    "    random_indx = np.random.randint(0, n_total_samples, n )\n",
    "    return data[random_indx]\n",
    "    "
   ]
  },
  {
   "cell_type": "code",
   "execution_count": 16,
   "metadata": {
    "ExecuteTime": {
     "end_time": "2020-07-09T09:35:20.459783Z",
     "start_time": "2020-07-09T09:21:40.661727Z"
    },
    "colab": {
     "base_uri": "https://localhost:8080/",
     "height": 1000
    },
    "colab_type": "code",
    "id": "7WJS3qBJJNEh",
    "outputId": "08d0e83f-c735-4461-91a6-a4340304c246"
   },
   "outputs": [
    {
     "name": "stdout",
     "output_type": "stream",
     "text": [
      "\n",
      " \n",
      "************\n",
      " Now let's try 1 hidden units. \n",
      "\n",
      " Epoch:  120\n",
      " Energy from RBM samples:  -3.8362194517318047\n",
      " The error (energy difference) is :  0.2841324578681954\n",
      "\n",
      " Epoch:  240\n",
      " Energy from RBM samples:  -4.058714825281076\n",
      " The error (energy difference) is :  0.06163708431892445\n",
      "\n",
      " Epoch:  360\n",
      " Energy from RBM samples:  -4.091175423250545\n",
      " The error (energy difference) is :  0.029176486349455466\n",
      "\n",
      " Epoch:  480\n",
      " Energy from RBM samples:  -4.108989097907204\n",
      " The error (energy difference) is :  0.011362811692795738\n",
      "\n",
      " Epoch:  600\n",
      " Energy from RBM samples:  -4.1128370329881\n",
      " The error (energy difference) is :  0.007514876611899979\n",
      "\n",
      " \n",
      "************\n",
      " Now let's try 4 hidden units. \n",
      "\n",
      " Epoch:  120\n",
      " Energy from RBM samples:  -4.045524661136571\n",
      " The error (energy difference) is :  0.07482724846342936\n",
      "\n",
      " Epoch:  240\n",
      " Energy from RBM samples:  -4.1111086609907375\n",
      " The error (energy difference) is :  0.009243248609262622\n",
      "\n",
      " Epoch:  360\n",
      " Energy from RBM samples:  -4.118019638378003\n",
      " The error (energy difference) is :  0.002332271221996862\n",
      "\n",
      " Epoch:  480\n",
      " Energy from RBM samples:  -4.117511574517746\n",
      " The error (energy difference) is :  0.0028403350822543416\n",
      "\n",
      " Epoch:  600\n",
      " Energy from RBM samples:  -4.118011265710823\n",
      " The error (energy difference) is :  0.0023406438891768744\n",
      "\n",
      " \n",
      "************\n",
      " Now let's try 7 hidden units. \n",
      "\n",
      " Epoch:  120\n",
      " Energy from RBM samples:  -4.093804137072069\n",
      " The error (energy difference) is :  0.02654777252793128\n",
      "\n",
      " Epoch:  240\n",
      " Energy from RBM samples:  -4.116937886724354\n",
      " The error (energy difference) is :  0.0034140228756465163\n",
      "\n",
      " Epoch:  360\n",
      " Energy from RBM samples:  -4.11876476765291\n",
      " The error (energy difference) is :  0.0015871419470903092\n",
      "\n",
      " Epoch:  480\n",
      " Energy from RBM samples:  -4.118412606589768\n",
      " The error (energy difference) is :  0.0019393030102321518\n",
      "\n",
      " Epoch:  600\n",
      " Energy from RBM samples:  -4.118308081827885\n",
      " The error (energy difference) is :  0.002043827772115314\n",
      "\n",
      " \n",
      "************\n",
      " Now let's try 10 hidden units. \n",
      "\n",
      " Epoch:  120\n",
      " Energy from RBM samples:  -4.108240702103137\n",
      " The error (energy difference) is :  0.01211120749686323\n",
      "\n",
      " Epoch:  240\n",
      " Energy from RBM samples:  -4.117948244237199\n",
      " The error (energy difference) is :  0.002403665362801455\n",
      "\n",
      " Epoch:  360\n",
      " Energy from RBM samples:  -4.117231629878113\n",
      " The error (energy difference) is :  0.0031202797218874423\n",
      "\n",
      " Epoch:  480\n",
      " Energy from RBM samples:  -4.11757412333577\n",
      " The error (energy difference) is :  0.0027777862642297535\n",
      "\n",
      " Epoch:  600\n",
      " Energy from RBM samples:  -4.11662257947482\n",
      " The error (energy difference) is :  0.0037293301251803967\n",
      "\n",
      " \n",
      "************\n",
      " Now let's try 13 hidden units. \n",
      "\n",
      " Epoch:  120\n",
      " Energy from RBM samples:  -4.110929312795075\n",
      " The error (energy difference) is :  0.009422596804925298\n",
      "\n",
      " Epoch:  240\n",
      " Energy from RBM samples:  -4.11472303726218\n",
      " The error (energy difference) is :  0.00562887233782039\n",
      "\n",
      " Epoch:  360\n",
      " Energy from RBM samples:  -4.11595141473217\n",
      " The error (energy difference) is :  0.004400494867829785\n",
      "\n",
      " Epoch:  480\n",
      " Energy from RBM samples:  -4.117787361807315\n",
      " The error (energy difference) is :  0.0025645477926854454\n",
      "\n",
      " Epoch:  600\n",
      " Energy from RBM samples:  -4.11890256836158\n",
      " The error (energy difference) is :  0.0014493412384197768\n",
      "\n",
      " \n",
      "************\n",
      " Now let's try 16 hidden units. \n",
      "\n",
      " Epoch:  120\n",
      " Energy from RBM samples:  -4.115198349324604\n",
      " The error (energy difference) is :  0.005153560275395819\n",
      "\n",
      " Epoch:  240\n",
      " Energy from RBM samples:  -4.118573521560601\n",
      " The error (energy difference) is :  0.0017783880393986706\n",
      "\n",
      " Epoch:  360\n",
      " Energy from RBM samples:  -4.118656189060847\n",
      " The error (energy difference) is :  0.0016957205391534558\n",
      "\n",
      " Epoch:  480\n",
      " Energy from RBM samples:  -4.114098957108367\n",
      " The error (energy difference) is :  0.006252952491633046\n",
      "\n",
      " Epoch:  600\n",
      " Energy from RBM samples:  -4.116780575570163\n",
      " The error (energy difference) is :  0.0035713340298366703\n",
      "\n",
      " \n",
      "************\n",
      " Now let's try 19 hidden units. \n",
      "\n",
      " Epoch:  120\n",
      " Energy from RBM samples:  -4.115285093512101\n",
      " The error (energy difference) is :  0.005066816087898829\n",
      "\n",
      " Epoch:  240\n",
      " Energy from RBM samples:  -4.116385020622164\n",
      " The error (energy difference) is :  0.003966888977836369\n",
      "\n",
      " Epoch:  360\n",
      " Energy from RBM samples:  -4.116013432962361\n",
      " The error (energy difference) is :  0.00433847663763931\n",
      "\n",
      " Epoch:  480\n",
      " Energy from RBM samples:  -4.1166312020927025\n",
      " The error (energy difference) is :  0.0037207075072975826\n",
      "\n",
      " Epoch:  600\n",
      " Energy from RBM samples:  -4.116362086774175\n",
      " The error (energy difference) is :  0.003989822825825051\n",
      "\n",
      " \n",
      "************\n",
      " Now let's try 22 hidden units. \n",
      "\n",
      " Epoch:  120\n",
      " Energy from RBM samples:  -4.117791170726315\n",
      " The error (energy difference) is :  0.002560738873684798\n",
      "\n",
      " Epoch:  240\n",
      " Energy from RBM samples:  -4.117426711585666\n",
      " The error (energy difference) is :  0.002925198014334107\n",
      "\n",
      " Epoch:  360\n",
      " Energy from RBM samples:  -4.115945394219159\n",
      " The error (energy difference) is :  0.004406515380841469\n",
      "\n",
      " Epoch:  480\n",
      " Energy from RBM samples:  -4.115648712181601\n",
      " The error (energy difference) is :  0.0047031974183990854\n",
      "\n",
      " Epoch:  600\n",
      " Energy from RBM samples:  -4.11618913378568\n",
      " The error (energy difference) is :  0.004162775814320341\n",
      "\n",
      " \n",
      "************\n",
      " Now let's try 25 hidden units. \n",
      "\n",
      " Epoch:  120\n",
      " Energy from RBM samples:  -4.1177149286422825\n",
      " The error (energy difference) is :  0.002636980957717583\n",
      "\n",
      " Epoch:  240\n",
      " Energy from RBM samples:  -4.114729939871675\n",
      " The error (energy difference) is :  0.005621969728324849\n",
      "\n",
      " Epoch:  360\n",
      " Energy from RBM samples:  -4.1169128718886645\n",
      " The error (energy difference) is :  0.0034390377113355797\n",
      "\n",
      " Epoch:  480\n",
      " Energy from RBM samples:  -4.116922660145935\n",
      " The error (energy difference) is :  0.0034292494540650864\n",
      "\n",
      " Epoch:  600\n",
      " Energy from RBM samples:  -4.116686301741536\n",
      " The error (energy difference) is :  0.003665607858463815\n",
      "\n",
      " \n",
      "************\n",
      " Now let's try 28 hidden units. \n",
      "\n",
      " Epoch:  120\n",
      " Energy from RBM samples:  -4.117745346373555\n",
      " The error (energy difference) is :  0.0026065632264451466\n",
      "\n",
      " Epoch:  240\n",
      " Energy from RBM samples:  -4.115297209325028\n",
      " The error (energy difference) is :  0.00505470027497168\n",
      "\n",
      " Epoch:  360\n",
      " Energy from RBM samples:  -4.115912290102388\n",
      " The error (energy difference) is :  0.004439619497611957\n",
      "\n",
      " Epoch:  480\n",
      " Energy from RBM samples:  -4.1155366041739905\n",
      " The error (energy difference) is :  0.004815305426009608\n",
      "\n",
      " Epoch:  600\n",
      " Energy from RBM samples:  -4.116572287615717\n",
      " The error (energy difference) is :  0.003779621984283388\n",
      "\n",
      " \n",
      "************\n",
      " Now let's try 31 hidden units. \n",
      "\n",
      " Epoch:  120\n",
      " Energy from RBM samples:  -4.116014054130442\n",
      " The error (energy difference) is :  0.004337855469557894\n",
      "\n",
      " Epoch:  240\n",
      " Energy from RBM samples:  -4.116596811350658\n",
      " The error (energy difference) is :  0.0037550982493419482\n",
      "\n",
      " Epoch:  360\n",
      " Energy from RBM samples:  -4.116889574195029\n",
      " The error (energy difference) is :  0.0034623354049712063\n",
      "\n",
      " Epoch:  480\n",
      " Energy from RBM samples:  -4.116039223308379\n",
      " The error (energy difference) is :  0.004312686291621404\n",
      "\n",
      " Epoch:  600\n",
      " Energy from RBM samples:  -4.117197526712762\n",
      " The error (energy difference) is :  0.0031543828872377944\n",
      "\n",
      " \n",
      "************\n",
      " Now let's try 34 hidden units. \n",
      "\n",
      " Epoch:  120\n",
      " Energy from RBM samples:  -4.117864253514988\n",
      " The error (energy difference) is :  0.0024876560850124463\n",
      "\n",
      " Epoch:  240\n",
      " Energy from RBM samples:  -4.117428282330554\n",
      " The error (energy difference) is :  0.002923627269446172\n",
      "\n",
      " Epoch:  360\n",
      " Energy from RBM samples:  -4.115608854308499\n",
      " The error (energy difference) is :  0.004743055291500653\n",
      "\n",
      " Epoch:  480\n",
      " Energy from RBM samples:  -4.115984276444687\n",
      " The error (energy difference) is :  0.0043676331553133\n",
      "\n",
      " Epoch:  600\n",
      " Energy from RBM samples:  -4.116860124009283\n",
      " The error (energy difference) is :  0.003491785590717278\n",
      "\n",
      " \n",
      "************\n",
      " Now let's try 37 hidden units. \n",
      "\n",
      " Epoch:  120\n",
      " Energy from RBM samples:  -4.1171970228563595\n",
      " The error (energy difference) is :  0.003154886743640617\n",
      "\n",
      " Epoch:  240\n",
      " Energy from RBM samples:  -4.115085288079638\n",
      " The error (energy difference) is :  0.005266621520362058\n",
      "\n",
      " Epoch:  360\n",
      " Energy from RBM samples:  -4.1171532918144935\n",
      " The error (energy difference) is :  0.0031986177855065634\n",
      "\n",
      " Epoch:  480\n",
      " Energy from RBM samples:  -4.1179700170904665\n",
      " The error (energy difference) is :  0.0023818925095335786\n"
     ]
    },
    {
     "name": "stdout",
     "output_type": "stream",
     "text": [
      "\n",
      " Epoch:  600\n",
      " Energy from RBM samples:  -4.116233301180096\n",
      " The error (energy difference) is :  0.0041186084199038575\n",
      "\n",
      " \n",
      "************\n",
      " Now let's try 40 hidden units. \n",
      "\n",
      " Epoch:  120\n",
      " Energy from RBM samples:  -4.116513861726576\n",
      " The error (energy difference) is :  0.003838047873424344\n",
      "\n",
      " Epoch:  240\n",
      " Energy from RBM samples:  -4.116229928660968\n",
      " The error (energy difference) is :  0.004121980939031822\n"
     ]
    },
    {
     "ename": "KeyboardInterrupt",
     "evalue": "",
     "output_type": "error",
     "traceback": [
      "\u001b[1;31m---------------------------------------------------------------------------\u001b[0m",
      "\u001b[1;31mKeyboardInterrupt\u001b[0m                         Traceback (most recent call last)",
      "\u001b[1;32m<timed exec>\u001b[0m in \u001b[0;36m<module>\u001b[1;34m\u001b[0m\n",
      "\u001b[1;32m<ipython-input-11-5ba19a5cdefd>\u001b[0m in \u001b[0;36mmin_nh_finder\u001b[1;34m(training_data, num_samples, epochs, Trshld, nh_max, n_test)\u001b[0m\n\u001b[0;32m     26\u001b[0m         \u001b[1;32mfor\u001b[0m \u001b[0me\u001b[0m \u001b[1;32min\u001b[0m \u001b[0mrange\u001b[0m\u001b[1;33m(\u001b[0m\u001b[1;36m1\u001b[0m\u001b[1;33m,\u001b[0m \u001b[0mepochs\u001b[0m\u001b[1;33m+\u001b[0m\u001b[1;36m1\u001b[0m\u001b[1;33m)\u001b[0m\u001b[1;33m:\u001b[0m\u001b[1;33m\u001b[0m\u001b[1;33m\u001b[0m\u001b[0m\n\u001b[0;32m     27\u001b[0m             \u001b[1;31m# do one epoch of training\u001b[0m\u001b[1;33m\u001b[0m\u001b[1;33m\u001b[0m\u001b[1;33m\u001b[0m\u001b[0m\n\u001b[1;32m---> 28\u001b[1;33m             \u001b[0mrbm\u001b[0m\u001b[1;33m.\u001b[0m\u001b[0mtrain\u001b[0m\u001b[1;33m(\u001b[0m\u001b[0mtraining_data\u001b[0m\u001b[1;33m)\u001b[0m\u001b[1;33m\u001b[0m\u001b[1;33m\u001b[0m\u001b[0m\n\u001b[0m\u001b[0;32m     29\u001b[0m \u001b[1;33m\u001b[0m\u001b[0m\n\u001b[0;32m     30\u001b[0m             \u001b[1;31m## Stop condition\u001b[0m\u001b[1;33m\u001b[0m\u001b[1;33m\u001b[0m\u001b[1;33m\u001b[0m\u001b[0m\n",
      "\u001b[1;32m~\\Nextcloud3\\Workspace\\Research\\Active_Projects\\CDL\\Coheret_Project\\W1\\CohortProject_2020\\Project_1_RBM_and_Tomography\\RBM_helper.py\u001b[0m in \u001b[0;36mtrain\u001b[1;34m(self, input_data, k, batch_size, lr)\u001b[0m\n\u001b[0;32m    125\u001b[0m \u001b[1;33m\u001b[0m\u001b[0m\n\u001b[0;32m    126\u001b[0m         \u001b[1;32mfor\u001b[0m \u001b[0mb\u001b[0m \u001b[1;32min\u001b[0m \u001b[0mrange\u001b[0m\u001b[1;33m(\u001b[0m\u001b[0mnum_batches\u001b[0m\u001b[1;33m)\u001b[0m\u001b[1;33m:\u001b[0m\u001b[1;33m\u001b[0m\u001b[1;33m\u001b[0m\u001b[0m\n\u001b[1;32m--> 127\u001b[1;33m             \u001b[0mall_gradients\u001b[0m \u001b[1;33m=\u001b[0m \u001b[0mself\u001b[0m\u001b[1;33m.\u001b[0m\u001b[0mcompute_batch_gradients\u001b[0m\u001b[1;33m(\u001b[0m\u001b[0mk\u001b[0m\u001b[1;33m,\u001b[0m \u001b[0mpos_batches\u001b[0m\u001b[1;33m[\u001b[0m\u001b[0mb\u001b[0m\u001b[1;33m]\u001b[0m\u001b[1;33m,\u001b[0m \u001b[0mneg_batches\u001b[0m\u001b[1;33m[\u001b[0m\u001b[0mb\u001b[0m\u001b[1;33m]\u001b[0m\u001b[1;33m)\u001b[0m\u001b[1;33m\u001b[0m\u001b[1;33m\u001b[0m\u001b[0m\n\u001b[0m\u001b[0;32m    128\u001b[0m \u001b[1;33m\u001b[0m\u001b[0m\n\u001b[0;32m    129\u001b[0m             \u001b[0mself\u001b[0m\u001b[1;33m.\u001b[0m\u001b[0mupdate_params\u001b[0m\u001b[1;33m(\u001b[0m\u001b[0mall_gradients\u001b[0m\u001b[1;33m,\u001b[0m \u001b[0mlr\u001b[0m\u001b[1;33m)\u001b[0m\u001b[1;33m\u001b[0m\u001b[1;33m\u001b[0m\u001b[0m\n",
      "\u001b[1;32m~\\Nextcloud3\\Workspace\\Research\\Active_Projects\\CDL\\Coheret_Project\\W1\\CohortProject_2020\\Project_1_RBM_and_Tomography\\RBM_helper.py\u001b[0m in \u001b[0;36mcompute_batch_gradients\u001b[1;34m(self, k, pos_phase_batch, neg_phase_batch)\u001b[0m\n\u001b[0;32m     93\u001b[0m         \u001b[0mgrads_W\u001b[0m\u001b[1;33m,\u001b[0m \u001b[0mgrads_vb\u001b[0m\u001b[1;33m,\u001b[0m \u001b[0mgrads_hb\u001b[0m \u001b[1;33m=\u001b[0m \u001b[0mself\u001b[0m\u001b[1;33m.\u001b[0m\u001b[0mgradients\u001b[0m\u001b[1;33m(\u001b[0m\u001b[0mpos_phase_batch\u001b[0m\u001b[1;33m)\u001b[0m\u001b[1;33m\u001b[0m\u001b[1;33m\u001b[0m\u001b[0m\n\u001b[0;32m     94\u001b[0m \u001b[1;33m\u001b[0m\u001b[0m\n\u001b[1;32m---> 95\u001b[1;33m         \u001b[0mvk\u001b[0m \u001b[1;33m=\u001b[0m \u001b[0mself\u001b[0m\u001b[1;33m.\u001b[0m\u001b[0mdraw_samples\u001b[0m\u001b[1;33m(\u001b[0m\u001b[0mk\u001b[0m\u001b[1;33m,\u001b[0m \u001b[0mneg_phase_batch\u001b[0m\u001b[1;33m)\u001b[0m\u001b[1;33m\u001b[0m\u001b[1;33m\u001b[0m\u001b[0m\n\u001b[0m\u001b[0;32m     96\u001b[0m         \u001b[0mneg_grads_W\u001b[0m\u001b[1;33m,\u001b[0m \u001b[0mneg_grads_vb\u001b[0m\u001b[1;33m,\u001b[0m \u001b[0mneg_grads_hb\u001b[0m \u001b[1;33m=\u001b[0m \u001b[0mself\u001b[0m\u001b[1;33m.\u001b[0m\u001b[0mgradients\u001b[0m\u001b[1;33m(\u001b[0m\u001b[0mvk\u001b[0m\u001b[1;33m)\u001b[0m\u001b[1;33m\u001b[0m\u001b[1;33m\u001b[0m\u001b[0m\n\u001b[0;32m     97\u001b[0m \u001b[1;33m\u001b[0m\u001b[0m\n",
      "\u001b[1;32m~\\Nextcloud3\\Workspace\\Research\\Active_Projects\\CDL\\Coheret_Project\\W1\\CohortProject_2020\\Project_1_RBM_and_Tomography\\RBM_helper.py\u001b[0m in \u001b[0;36mdraw_samples\u001b[1;34m(self, k, initial_state)\u001b[0m\n\u001b[0;32m     74\u001b[0m \u001b[1;33m\u001b[0m\u001b[0m\n\u001b[0;32m     75\u001b[0m         \u001b[1;32mfor\u001b[0m \u001b[0m_\u001b[0m \u001b[1;32min\u001b[0m \u001b[0mrange\u001b[0m\u001b[1;33m(\u001b[0m\u001b[0mk\u001b[0m\u001b[1;33m)\u001b[0m\u001b[1;33m:\u001b[0m\u001b[1;33m\u001b[0m\u001b[1;33m\u001b[0m\u001b[0m\n\u001b[1;32m---> 76\u001b[1;33m             \u001b[0mh\u001b[0m \u001b[1;33m=\u001b[0m \u001b[0mself\u001b[0m\u001b[1;33m.\u001b[0m\u001b[0msample_h_given_v\u001b[0m\u001b[1;33m(\u001b[0m\u001b[0mv\u001b[0m\u001b[1;33m)\u001b[0m\u001b[1;33m\u001b[0m\u001b[1;33m\u001b[0m\u001b[0m\n\u001b[0m\u001b[0;32m     77\u001b[0m             \u001b[0mv\u001b[0m \u001b[1;33m=\u001b[0m \u001b[0mself\u001b[0m\u001b[1;33m.\u001b[0m\u001b[0msample_v_given_h\u001b[0m\u001b[1;33m(\u001b[0m\u001b[0mh\u001b[0m\u001b[1;33m)\u001b[0m\u001b[1;33m\u001b[0m\u001b[1;33m\u001b[0m\u001b[0m\n\u001b[0;32m     78\u001b[0m \u001b[1;33m\u001b[0m\u001b[0m\n",
      "\u001b[1;32m~\\Nextcloud3\\Workspace\\Research\\Active_Projects\\CDL\\Coheret_Project\\W1\\CohortProject_2020\\Project_1_RBM_and_Tomography\\RBM_helper.py\u001b[0m in \u001b[0;36msample_h_given_v\u001b[1;34m(self, v)\u001b[0m\n\u001b[0;32m     65\u001b[0m \u001b[1;33m\u001b[0m\u001b[0m\n\u001b[0;32m     66\u001b[0m     \u001b[1;32mdef\u001b[0m \u001b[0msample_h_given_v\u001b[0m\u001b[1;33m(\u001b[0m\u001b[0mself\u001b[0m\u001b[1;33m,\u001b[0m \u001b[0mv\u001b[0m\u001b[1;33m)\u001b[0m\u001b[1;33m:\u001b[0m\u001b[1;33m\u001b[0m\u001b[1;33m\u001b[0m\u001b[0m\n\u001b[1;32m---> 67\u001b[1;33m         \u001b[0mh\u001b[0m \u001b[1;33m=\u001b[0m \u001b[0mself\u001b[0m\u001b[1;33m.\u001b[0m\u001b[0mprob_h_given_v\u001b[0m\u001b[1;33m(\u001b[0m\u001b[0mv\u001b[0m\u001b[1;33m)\u001b[0m\u001b[1;33m\u001b[0m\u001b[1;33m\u001b[0m\u001b[0m\n\u001b[0m\u001b[0;32m     68\u001b[0m         \u001b[0mh\u001b[0m \u001b[1;33m=\u001b[0m \u001b[0mtorch\u001b[0m\u001b[1;33m.\u001b[0m\u001b[0mbernoulli\u001b[0m\u001b[1;33m(\u001b[0m\u001b[0mh\u001b[0m\u001b[1;33m)\u001b[0m  \u001b[1;31m# overwrite h with its sample\u001b[0m\u001b[1;33m\u001b[0m\u001b[1;33m\u001b[0m\u001b[0m\n\u001b[0;32m     69\u001b[0m         \u001b[1;32mreturn\u001b[0m \u001b[0mh\u001b[0m\u001b[1;33m\u001b[0m\u001b[1;33m\u001b[0m\u001b[0m\n",
      "\u001b[1;32m~\\Nextcloud3\\Workspace\\Research\\Active_Projects\\CDL\\Coheret_Project\\W1\\CohortProject_2020\\Project_1_RBM_and_Tomography\\RBM_helper.py\u001b[0m in \u001b[0;36mprob_h_given_v\u001b[1;34m(self, v)\u001b[0m\n\u001b[0;32m     56\u001b[0m             \u001b[1;33m.\u001b[0m\u001b[0madd_\u001b[0m\u001b[1;33m(\u001b[0m\u001b[0mself\u001b[0m\u001b[1;33m.\u001b[0m\u001b[0mhidden_bias\u001b[0m\u001b[1;33m.\u001b[0m\u001b[0mdata\u001b[0m\u001b[1;33m)\u001b[0m\u001b[1;33m\u001b[0m\u001b[1;33m\u001b[0m\u001b[0m\n\u001b[0;32m     57\u001b[0m             \u001b[1;33m.\u001b[0m\u001b[0msigmoid_\u001b[0m\u001b[1;33m(\u001b[0m\u001b[1;33m)\u001b[0m\u001b[1;33m\u001b[0m\u001b[1;33m\u001b[0m\u001b[0m\n\u001b[1;32m---> 58\u001b[1;33m             \u001b[1;33m.\u001b[0m\u001b[0mclamp_\u001b[0m\u001b[1;33m(\u001b[0m\u001b[0mmin\u001b[0m\u001b[1;33m=\u001b[0m\u001b[1;36m0\u001b[0m\u001b[1;33m,\u001b[0m \u001b[0mmax\u001b[0m\u001b[1;33m=\u001b[0m\u001b[1;36m1\u001b[0m\u001b[1;33m)\u001b[0m\u001b[1;33m\u001b[0m\u001b[1;33m\u001b[0m\u001b[0m\n\u001b[0m\u001b[0;32m     59\u001b[0m         )\n\u001b[0;32m     60\u001b[0m \u001b[1;33m\u001b[0m\u001b[0m\n",
      "\u001b[1;31mKeyboardInterrupt\u001b[0m: "
     ]
    }
   ],
   "source": [
    "%%time\n",
    "n_s = 1000\n",
    "epch = 600\n",
    "trshld = .0001\n",
    "nh_min, e_list, nh_list = min_nh_finder(return_subset(training_data,1000), Trshld=trshld, nh_max=50, epochs=epch)\n",
    "np.savez_compressed(f'Task2-B_{n_s}_epch{epch}_Trshld-{trshld}', nh_min = nh_min, e_list = e_list, nh_list = nh_list)"
   ]
  },
  {
   "cell_type": "code",
   "execution_count": 17,
   "metadata": {
    "ExecuteTime": {
     "end_time": "2020-07-09T09:35:21.035308Z",
     "start_time": "2020-07-09T09:35:20.530593Z"
    },
    "colab": {
     "base_uri": "https://localhost:8080/",
     "height": 492
    },
    "colab_type": "code",
    "id": "u_imNLTMJNEl",
    "outputId": "070754bd-d41d-4f28-a5e8-d30ac7006924"
   },
   "outputs": [
    {
     "name": "stdout",
     "output_type": "stream",
     "text": [
      "The min n_h is 1.\n",
      "\n"
     ]
    },
    {
     "data": {
      "image/png": "[encoded data removed]",
      "text/plain": [
       "<Figure size 720x504 with 1 Axes>"
      ]
     },
     "metadata": {
      "needs_background": "light"
     },
     "output_type": "display_data"
    }
   ],
   "source": [
    "print(f'The min n_h is {nh_min}.\\n')\n",
    "\n",
    "fig = plt.figure(figsize=(10,7))\n",
    "ax = fig.add_subplot(111, xlabel = 'Epoch', ylabel = 'Error\\n Energy Differnnce', title = 'Learning Criterion vs epoch')\n",
    "for i in range(0, len(nh_list), 4):\n",
    "    ax.plot(*np.array(e_list)[i].T, label =f'n_h = {nh_list[i]}' )\n",
    "ax.axhline(y=0.0001, color='r', linestyle='-.')\n",
    "\n",
    "# plt.yscale('log')\n",
    "plt.legend(loc=0, ncol=2)\n",
    "plt.show()      "
   ]
  },
  {
   "cell_type": "code",
   "execution_count": 16,
   "metadata": {
    "ExecuteTime": {
     "end_time": "2020-07-08T14:15:29.386883Z",
     "start_time": "2020-07-08T14:15:29.378814Z"
    },
    "colab": {},
    "colab_type": "code",
    "id": "KHFvouKlJNEZ"
   },
   "outputs": [],
   "source": [
    "'''\n",
    "This gives the list of the samples we will be trying. \n",
    "'''\n",
    "n_sample_list = np.arange(500, n_total_samples, 100)\n",
    "\n"
   ]
  },
  {
   "cell_type": "code",
   "execution_count": null,
   "metadata": {
    "colab": {},
    "colab_type": "code",
    "id": "lG-f9C7FJNEo"
   },
   "outputs": [],
   "source": []
  }
 ],
 "metadata": {
  "colab": {
   "collapsed_sections": [
    "BptVw3UhLYM9",
    "IOkq-0FyB0iI",
    "JMcrikFZB9R9"
   ],
   "name": "Task2_Solution.ipynb",
   "provenance": []
  },
  "kernelspec": {
   "display_name": "Python 3",
   "language": "python",
   "name": "python3"
  },
  "language_info": {
   "codemirror_mode": {
    "name": "ipython",
    "version": 3
   },
   "file_extension": ".py",
   "mimetype": "text/x-python",
   "name": "python",
   "nbconvert_exporter": "python",
   "pygments_lexer": "ipython3",
   "version": "3.6.10"
  },
  "latex_envs": {
   "LaTeX_envs_menu_present": true,
   "autoclose": false,
   "autocomplete": true,
   "bibliofile": "biblio.bib",
   "cite_by": "apalike",
   "current_citInitial": 1,
   "eqLabelWithNumbers": true,
   "eqNumInitial": 1,
   "hotkeys": {
    "equation": "Ctrl-E",
    "itemize": "Ctrl-I"
   },
   "labels_anchors": false,
   "latex_user_defs": false,
   "report_style_numbering": false,
   "user_envs_cfg": false
  },
  "toc": {
   "base_numbering": 1,
   "nav_menu": {},
   "number_sections": true,
   "sideBar": true,
   "skip_h1_title": false,
   "title_cell": "Table of Contents",
   "title_sidebar": "Contents",
   "toc_cell": false,
   "toc_position": {},
   "toc_section_display": true,
   "toc_window_display": false
  },
  "varInspector": {
   "cols": {
    "lenName": 16,
    "lenType": 16,
    "lenVar": 40
   },
   "kernels_config": {
    "python": {
     "delete_cmd_postfix": "",
     "delete_cmd_prefix": "del ",
     "library": "var_list.py",
     "varRefreshCmd": "print(var_dic_list())"
    },
    "r": {
     "delete_cmd_postfix": ") ",
     "delete_cmd_prefix": "rm(",
     "library": "var_list.r",
     "varRefreshCmd": "cat(var_dic_list()) "
    }
   },
   "types_to_exclude": [
    "module",
    "function",
    "builtin_function_or_method",
    "instance",
    "_Feature"
   ],
   "window_display": false
  }
 },
 "nbformat": 4,
 "nbformat_minor": 1
}
